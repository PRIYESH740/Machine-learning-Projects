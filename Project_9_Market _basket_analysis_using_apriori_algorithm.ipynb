{
 "cells": [
  {
   "cell_type": "markdown",
   "id": "2543f656",
   "metadata": {},
   "source": [
    "importing the libraries"
   ]
  },
  {
   "cell_type": "code",
   "execution_count": 1,
   "id": "7de2ecdc",
   "metadata": {},
   "outputs": [
    {
     "name": "stderr",
     "output_type": "stream",
     "text": [
      "C:\\Users\\asus\\AppData\\Roaming\\Python\\Python311\\site-packages\\pandas\\core\\arrays\\masked.py:60: UserWarning: Pandas requires version '1.3.6' or newer of 'bottleneck' (version '1.3.5' currently installed).\n",
      "  from pandas.core import (\n"
     ]
    }
   ],
   "source": [
    "import numpy as np\n",
    "import pandas as pd\n",
    "import seaborn as sns \n",
    "import matplotlib.pyplot as plt\n",
    "import re "
   ]
  },
  {
   "cell_type": "markdown",
   "id": "274aa472",
   "metadata": {},
   "source": [
    "Installing the Apyori library to perform Apriori algorithm"
   ]
  },
  {
   "cell_type": "code",
   "execution_count": 2,
   "id": "1bb23580",
   "metadata": {},
   "outputs": [
    {
     "name": "stdout",
     "output_type": "stream",
     "text": [
      "Defaulting to user installation because normal site-packages is not writeable\n",
      "Requirement already satisfied: apyori in c:\\users\\asus\\appdata\\roaming\\python\\python311\\site-packages (1.1.2)\n"
     ]
    }
   ],
   "source": [
    "!pip install apyori"
   ]
  },
  {
   "cell_type": "code",
   "execution_count": 3,
   "id": "70e22881",
   "metadata": {},
   "outputs": [],
   "source": [
    "from apyori import apriori"
   ]
  },
  {
   "cell_type": "markdown",
   "id": "97f85867",
   "metadata": {},
   "source": [
    "Importing the dataset "
   ]
  },
  {
   "cell_type": "code",
   "execution_count": 4,
   "id": "cf4f06a2",
   "metadata": {},
   "outputs": [],
   "source": [
    "df=pd.read_csv('https://raw.githubusercontent.com/amankharwal/Website-data/refs/heads/master/Groceries_dataset.csv')"
   ]
  },
  {
   "cell_type": "markdown",
   "id": "b026f458",
   "metadata": {},
   "source": [
    "Data Analysis "
   ]
  },
  {
   "cell_type": "code",
   "execution_count": 5,
   "id": "1a1c5b8e",
   "metadata": {},
   "outputs": [
    {
     "data": {
      "text/html": [
       "<div>\n",
       "<style scoped>\n",
       "    .dataframe tbody tr th:only-of-type {\n",
       "        vertical-align: middle;\n",
       "    }\n",
       "\n",
       "    .dataframe tbody tr th {\n",
       "        vertical-align: top;\n",
       "    }\n",
       "\n",
       "    .dataframe thead th {\n",
       "        text-align: right;\n",
       "    }\n",
       "</style>\n",
       "<table border=\"1\" class=\"dataframe\">\n",
       "  <thead>\n",
       "    <tr style=\"text-align: right;\">\n",
       "      <th></th>\n",
       "      <th>Member_number</th>\n",
       "      <th>Date</th>\n",
       "      <th>itemDescription</th>\n",
       "    </tr>\n",
       "  </thead>\n",
       "  <tbody>\n",
       "    <tr>\n",
       "      <th>0</th>\n",
       "      <td>1808</td>\n",
       "      <td>21-07-2015</td>\n",
       "      <td>tropical fruit</td>\n",
       "    </tr>\n",
       "    <tr>\n",
       "      <th>1</th>\n",
       "      <td>2552</td>\n",
       "      <td>05-01-2015</td>\n",
       "      <td>whole milk</td>\n",
       "    </tr>\n",
       "    <tr>\n",
       "      <th>2</th>\n",
       "      <td>2300</td>\n",
       "      <td>19-09-2015</td>\n",
       "      <td>pip fruit</td>\n",
       "    </tr>\n",
       "    <tr>\n",
       "      <th>3</th>\n",
       "      <td>1187</td>\n",
       "      <td>12-12-2015</td>\n",
       "      <td>other vegetables</td>\n",
       "    </tr>\n",
       "    <tr>\n",
       "      <th>4</th>\n",
       "      <td>3037</td>\n",
       "      <td>01-02-2015</td>\n",
       "      <td>whole milk</td>\n",
       "    </tr>\n",
       "  </tbody>\n",
       "</table>\n",
       "</div>"
      ],
      "text/plain": [
       "   Member_number        Date   itemDescription\n",
       "0           1808  21-07-2015    tropical fruit\n",
       "1           2552  05-01-2015        whole milk\n",
       "2           2300  19-09-2015         pip fruit\n",
       "3           1187  12-12-2015  other vegetables\n",
       "4           3037  01-02-2015        whole milk"
      ]
     },
     "execution_count": 5,
     "metadata": {},
     "output_type": "execute_result"
    }
   ],
   "source": [
    "#show the top 5 datapoint of DataFrame \n",
    "df.head()"
   ]
  },
  {
   "cell_type": "code",
   "execution_count": 6,
   "id": "47d04845",
   "metadata": {},
   "outputs": [
    {
     "name": "stdout",
     "output_type": "stream",
     "text": [
      "<class 'pandas.core.frame.DataFrame'>\n",
      "RangeIndex: 38765 entries, 0 to 38764\n",
      "Data columns (total 3 columns):\n",
      " #   Column           Non-Null Count  Dtype \n",
      "---  ------           --------------  ----- \n",
      " 0   Member_number    38765 non-null  int64 \n",
      " 1   Date             38765 non-null  object\n",
      " 2   itemDescription  38765 non-null  object\n",
      "dtypes: int64(1), object(2)\n",
      "memory usage: 908.7+ KB\n"
     ]
    }
   ],
   "source": [
    "##check information of each column -> dtype, Non-Null Count\n",
    "df.info()"
   ]
  },
  {
   "cell_type": "code",
   "execution_count": 7,
   "id": "244edace",
   "metadata": {},
   "outputs": [
    {
     "data": {
      "text/plain": [
       "(38765, 3)"
      ]
     },
     "execution_count": 7,
     "metadata": {},
     "output_type": "execute_result"
    }
   ],
   "source": [
    "#Find the no. of rows and no. of columns in DataFrame\n",
    "df.shape"
   ]
  },
  {
   "cell_type": "code",
   "execution_count": 8,
   "id": "b5626a93",
   "metadata": {},
   "outputs": [
    {
     "data": {
      "text/plain": [
       "116295"
      ]
     },
     "execution_count": 8,
     "metadata": {},
     "output_type": "execute_result"
    }
   ],
   "source": [
    "#find the total number element in DataFrame\n",
    "df.size"
   ]
  },
  {
   "cell_type": "code",
   "execution_count": 9,
   "id": "9e796f33",
   "metadata": {},
   "outputs": [
    {
     "data": {
      "text/plain": [
       "2"
      ]
     },
     "execution_count": 9,
     "metadata": {},
     "output_type": "execute_result"
    }
   ],
   "source": [
    "#dimension of Dataframe\n",
    "df.ndim"
   ]
  },
  {
   "cell_type": "code",
   "execution_count": 10,
   "id": "b607ff73",
   "metadata": {},
   "outputs": [
    {
     "data": {
      "text/plain": [
       "Member_number      0\n",
       "Date               0\n",
       "itemDescription    0\n",
       "dtype: int64"
      ]
     },
     "execution_count": 10,
     "metadata": {},
     "output_type": "execute_result"
    }
   ],
   "source": [
    "#Checking the null value in each column of DataFrame \n",
    "df.isnull().sum()"
   ]
  },
  {
   "cell_type": "code",
   "execution_count": 11,
   "id": "92997cb7",
   "metadata": {},
   "outputs": [
    {
     "data": {
      "text/plain": [
       "itemDescription\n",
       "whole milk          2502\n",
       "other vegetables    1898\n",
       "rolls/buns          1716\n",
       "soda                1514\n",
       "yogurt              1334\n",
       "root vegetables     1071\n",
       "tropical fruit      1032\n",
       "bottled water        933\n",
       "sausage              924\n",
       "citrus fruit         812\n",
       "Name: count, dtype: int64"
      ]
     },
     "execution_count": 11,
     "metadata": {},
     "output_type": "execute_result"
    }
   ],
   "source": [
    "#Q1. Which of the items are the top 10 selling item?\n",
    "df.itemDescription.value_counts().head(10)"
   ]
  },
  {
   "cell_type": "code",
   "execution_count": 12,
   "id": "91ae5893",
   "metadata": {},
   "outputs": [
    {
     "data": {
      "image/png": "[encoded data removed]",
      "text/plain": [
       "<Figure size 640x480 with 1 Axes>"
      ]
     },
     "metadata": {},
     "output_type": "display_data"
    }
   ],
   "source": [
    "#Show the items are the top 10 selling item using plot ?\n",
    "df.itemDescription.value_counts().head(10).plot(kind='bar')\n",
    "plt.title('top 10 selling items')\n",
    "plt.grid()"
   ]
  },
  {
   "cell_type": "code",
   "execution_count": 13,
   "id": "514647d3",
   "metadata": {},
   "outputs": [
    {
     "data": {
      "text/plain": [
       "itemDescription\n",
       "kitchen utensil          1\n",
       "preservation products    1\n",
       "baby cosmetics           3\n",
       "bags                     4\n",
       "make up remover          5\n",
       "toilet cleaner           5\n",
       "frozen chicken           5\n",
       "rubbing alcohol          5\n",
       "salad dressing           6\n",
       "whisky                   8\n",
       "Name: count, dtype: int64"
      ]
     },
     "execution_count": 13,
     "metadata": {},
     "output_type": "execute_result"
    }
   ],
   "source": [
    "#Q2. Which of the item is the least 10 selling item?\n",
    "df.itemDescription.value_counts().tail(10).sort_values()"
   ]
  },
  {
   "cell_type": "code",
   "execution_count": 14,
   "id": "e319391e",
   "metadata": {},
   "outputs": [
    {
     "data": {
      "text/plain": [
       "<Axes: xlabel='itemDescription'>"
      ]
     },
     "execution_count": 14,
     "metadata": {},
     "output_type": "execute_result"
    },
    {
     "data": {
      "image/png": "[encoded data removed]",
      "text/plain": [
       "<Figure size 640x480 with 1 Axes>"
      ]
     },
     "metadata": {},
     "output_type": "display_data"
    }
   ],
   "source": [
    "#show the item is the least 10 selling item using plot?\n",
    "df.itemDescription.value_counts().tail(10).sort_values().plot(kind='bar')"
   ]
  },
  {
   "cell_type": "code",
   "execution_count": 15,
   "id": "09a98ed6",
   "metadata": {},
   "outputs": [
    {
     "data": {
      "text/plain": [
       "Member_number\n",
       "3180    36\n",
       "3737    33\n",
       "3050    33\n",
       "2051    33\n",
       "2625    31\n",
       "3915    31\n",
       "2433    31\n",
       "2271    31\n",
       "3872    30\n",
       "3289    29\n",
       "Name: count, dtype: int64"
      ]
     },
     "execution_count": 15,
     "metadata": {},
     "output_type": "execute_result"
    }
   ],
   "source": [
    "#Q3: Top 10 customers frequently bought the products\n",
    "df.Member_number.value_counts().head(10)"
   ]
  },
  {
   "cell_type": "code",
   "execution_count": 16,
   "id": "59f0c2b1",
   "metadata": {},
   "outputs": [
    {
     "data": {
      "text/plain": [
       "<Axes: xlabel='Member_number'>"
      ]
     },
     "execution_count": 16,
     "metadata": {},
     "output_type": "execute_result"
    },
    {
     "data": {
      "image/png": "[encoded data removed]",
      "text/plain": [
       "<Figure size 640x480 with 1 Axes>"
      ]
     },
     "metadata": {},
     "output_type": "display_data"
    }
   ],
   "source": [
    "#Q3: Top 10 customers frequently bought the products using plot \n",
    "df.Member_number.value_counts().head(10).plot(kind='bar')"
   ]
  },
  {
   "cell_type": "code",
   "execution_count": 17,
   "id": "e1481bc6",
   "metadata": {},
   "outputs": [],
   "source": [
    "#Create a new column year in DataFrame \n",
    "df['year']=pd.DatetimeIndex(df.Date).year"
   ]
  },
  {
   "cell_type": "code",
   "execution_count": 18,
   "id": "413ab1a5",
   "metadata": {},
   "outputs": [
    {
     "data": {
      "text/plain": [
       "year\n",
       "2015    20488\n",
       "2014    18277\n",
       "Name: count, dtype: int64"
      ]
     },
     "execution_count": 18,
     "metadata": {},
     "output_type": "execute_result"
    }
   ],
   "source": [
    "#find out in which year majority of transaction happened ?\n",
    "df.year.value_counts()"
   ]
  },
  {
   "cell_type": "code",
   "execution_count": 19,
   "id": "d730c634",
   "metadata": {},
   "outputs": [],
   "source": [
    "#Create a new column day,month in DataFrame \n",
    "df['day']=pd.DatetimeIndex(df.Date).day\n",
    "df['month']=pd.DatetimeIndex(df.Date).month"
   ]
  },
  {
   "cell_type": "code",
   "execution_count": 20,
   "id": "b481d536",
   "metadata": {},
   "outputs": [
    {
     "data": {
      "text/plain": [
       "month\n",
       "8     3498\n",
       "5     3335\n",
       "1     3333\n",
       "6     3316\n",
       "3     3283\n",
       "11    3273\n",
       "7     3268\n",
       "10    3218\n",
       "4     3172\n",
       "12    3074\n",
       "2     3032\n",
       "9     2963\n",
       "Name: count, dtype: int64"
      ]
     },
     "execution_count": 20,
     "metadata": {},
     "output_type": "execute_result"
    }
   ],
   "source": [
    "#find out in which month majority of transaction happened ?\n",
    "df.month.value_counts()"
   ]
  },
  {
   "cell_type": "code",
   "execution_count": 21,
   "id": "a17b3be1",
   "metadata": {},
   "outputs": [
    {
     "data": {
      "text/plain": [
       "day\n",
       "28    1375\n",
       "21    1354\n",
       "26    1351\n",
       "8     1349\n",
       "14    1341\n",
       "13    1341\n",
       "27    1327\n",
       "4     1308\n",
       "10    1308\n",
       "11    1297\n",
       "5     1290\n",
       "24    1290\n",
       "18    1285\n",
       "7     1277\n",
       "23    1277\n",
       "22    1272\n",
       "19    1272\n",
       "9     1271\n",
       "2     1252\n",
       "1     1250\n",
       "15    1245\n",
       "3     1243\n",
       "6     1232\n",
       "25    1229\n",
       "20    1214\n",
       "30    1201\n",
       "17    1181\n",
       "12    1179\n",
       "16    1158\n",
       "29    1124\n",
       "31     672\n",
       "Name: count, dtype: int64"
      ]
     },
     "execution_count": 21,
     "metadata": {},
     "output_type": "execute_result"
    }
   ],
   "source": [
    "#find out in which day majority of transaction happened ?\n",
    "df.day.value_counts()"
   ]
  },
  {
   "cell_type": "code",
   "execution_count": 22,
   "id": "b22b5663",
   "metadata": {},
   "outputs": [
    {
     "data": {
      "text/plain": [
       "month\n",
       "8     1963\n",
       "1     1829\n",
       "3     1792\n",
       "6     1791\n",
       "11    1777\n",
       "5     1710\n",
       "4     1666\n",
       "10    1663\n",
       "7     1645\n",
       "9     1613\n",
       "12    1554\n",
       "2     1485\n",
       "Name: count, dtype: int64"
      ]
     },
     "execution_count": 22,
     "metadata": {},
     "output_type": "execute_result"
    }
   ],
   "source": [
    "#show me in 2015 which month is having more transaction \n",
    "df[df['year']==2015]['month'].value_counts()"
   ]
  },
  {
   "cell_type": "code",
   "execution_count": 23,
   "id": "cdb2f5bc",
   "metadata": {},
   "outputs": [
    {
     "data": {
      "text/html": [
       "<div>\n",
       "<style scoped>\n",
       "    .dataframe tbody tr th:only-of-type {\n",
       "        vertical-align: middle;\n",
       "    }\n",
       "\n",
       "    .dataframe tbody tr th {\n",
       "        vertical-align: top;\n",
       "    }\n",
       "\n",
       "    .dataframe thead th {\n",
       "        text-align: right;\n",
       "    }\n",
       "</style>\n",
       "<table border=\"1\" class=\"dataframe\">\n",
       "  <thead>\n",
       "    <tr style=\"text-align: right;\">\n",
       "      <th></th>\n",
       "      <th>Member_number</th>\n",
       "      <th>Date</th>\n",
       "      <th>itemDescription</th>\n",
       "      <th>year</th>\n",
       "      <th>day</th>\n",
       "      <th>month</th>\n",
       "    </tr>\n",
       "  </thead>\n",
       "  <tbody>\n",
       "    <tr>\n",
       "      <th>0</th>\n",
       "      <td>1808</td>\n",
       "      <td>21-07-2015</td>\n",
       "      <td>tropical fruit</td>\n",
       "      <td>2015</td>\n",
       "      <td>21</td>\n",
       "      <td>7</td>\n",
       "    </tr>\n",
       "    <tr>\n",
       "      <th>1</th>\n",
       "      <td>2552</td>\n",
       "      <td>05-01-2015</td>\n",
       "      <td>whole milk</td>\n",
       "      <td>2015</td>\n",
       "      <td>1</td>\n",
       "      <td>5</td>\n",
       "    </tr>\n",
       "    <tr>\n",
       "      <th>2</th>\n",
       "      <td>2300</td>\n",
       "      <td>19-09-2015</td>\n",
       "      <td>pip fruit</td>\n",
       "      <td>2015</td>\n",
       "      <td>19</td>\n",
       "      <td>9</td>\n",
       "    </tr>\n",
       "    <tr>\n",
       "      <th>3</th>\n",
       "      <td>1187</td>\n",
       "      <td>12-12-2015</td>\n",
       "      <td>other vegetables</td>\n",
       "      <td>2015</td>\n",
       "      <td>12</td>\n",
       "      <td>12</td>\n",
       "    </tr>\n",
       "    <tr>\n",
       "      <th>4</th>\n",
       "      <td>3037</td>\n",
       "      <td>01-02-2015</td>\n",
       "      <td>whole milk</td>\n",
       "      <td>2015</td>\n",
       "      <td>2</td>\n",
       "      <td>1</td>\n",
       "    </tr>\n",
       "  </tbody>\n",
       "</table>\n",
       "</div>"
      ],
      "text/plain": [
       "   Member_number        Date   itemDescription  year  day  month\n",
       "0           1808  21-07-2015    tropical fruit  2015   21      7\n",
       "1           2552  05-01-2015        whole milk  2015    1      5\n",
       "2           2300  19-09-2015         pip fruit  2015   19      9\n",
       "3           1187  12-12-2015  other vegetables  2015   12     12\n",
       "4           3037  01-02-2015        whole milk  2015    2      1"
      ]
     },
     "execution_count": 23,
     "metadata": {},
     "output_type": "execute_result"
    }
   ],
   "source": [
    "#show the top 5 datapoints of DataFrame \n",
    "df.head()"
   ]
  },
  {
   "cell_type": "code",
   "execution_count": 26,
   "id": "9eafc941",
   "metadata": {
    "scrolled": true
   },
   "outputs": [
    {
     "data": {
      "text/plain": [
       "day  month  year\n",
       "8    8      2015    92\n",
       "21   8      2015    83\n",
       "20   8      2015    83\n",
       "18   8      2015    82\n",
       "15   8      2015    82\n",
       "28   8      2015    79\n",
       "7    8      2015    75\n",
       "13   8      2015    74\n",
       "12   8      2015    73\n",
       "5    8      2015    69\n",
       "9    8      2015    69\n",
       "24   8      2015    68\n",
       "6    8      2015    66\n",
       "11   8      2015    65\n",
       "4    8      2015    64\n",
       "23   8      2015    61\n",
       "27   8      2015    61\n",
       "19   8      2015    60\n",
       "3    8      2015    59\n",
       "17   8      2015    57\n",
       "30   8      2015    55\n",
       "26   8      2015    54\n",
       "14   8      2015    54\n",
       "22   8      2015    53\n",
       "25   8      2015    52\n",
       "2    8      2015    47\n",
       "31   8      2015    47\n",
       "16   8      2015    46\n",
       "10   8      2015    45\n",
       "1    8      2015    45\n",
       "29   8      2015    43\n",
       "Name: count, dtype: int64"
      ]
     },
     "execution_count": 26,
     "metadata": {},
     "output_type": "execute_result"
    }
   ],
   "source": [
    "#show me in 2015 which Date is having more transaction where month is 8\n",
    "df[(df['year']==2015)& (df['month']==8)][['day','month','year']].value_counts()"
   ]
  },
  {
   "cell_type": "markdown",
   "id": "f1bea1ba",
   "metadata": {},
   "source": [
    "### data cleaning for Apriori Implementation"
   ]
  },
  {
   "cell_type": "code",
   "execution_count": 52,
   "id": "9d056912",
   "metadata": {},
   "outputs": [
    {
     "data": {
      "text/html": [
       "<div>\n",
       "<style scoped>\n",
       "    .dataframe tbody tr th:only-of-type {\n",
       "        vertical-align: middle;\n",
       "    }\n",
       "\n",
       "    .dataframe tbody tr th {\n",
       "        vertical-align: top;\n",
       "    }\n",
       "\n",
       "    .dataframe thead th {\n",
       "        text-align: right;\n",
       "    }\n",
       "</style>\n",
       "<table border=\"1\" class=\"dataframe\">\n",
       "  <thead>\n",
       "    <tr style=\"text-align: right;\">\n",
       "      <th></th>\n",
       "      <th>Member_number</th>\n",
       "      <th>Date</th>\n",
       "      <th>itemDescription</th>\n",
       "      <th>year</th>\n",
       "      <th>day</th>\n",
       "      <th>month</th>\n",
       "    </tr>\n",
       "  </thead>\n",
       "  <tbody>\n",
       "    <tr>\n",
       "      <th>0</th>\n",
       "      <td>1808</td>\n",
       "      <td>21-07-2015</td>\n",
       "      <td>tropical fruit</td>\n",
       "      <td>2015</td>\n",
       "      <td>21</td>\n",
       "      <td>7</td>\n",
       "    </tr>\n",
       "    <tr>\n",
       "      <th>1</th>\n",
       "      <td>2552</td>\n",
       "      <td>05-01-2015</td>\n",
       "      <td>whole milk</td>\n",
       "      <td>2015</td>\n",
       "      <td>1</td>\n",
       "      <td>5</td>\n",
       "    </tr>\n",
       "  </tbody>\n",
       "</table>\n",
       "</div>"
      ],
      "text/plain": [
       "   Member_number        Date itemDescription  year  day  month\n",
       "0           1808  21-07-2015  tropical fruit  2015   21      7\n",
       "1           2552  05-01-2015      whole milk  2015    1      5"
      ]
     },
     "execution_count": 52,
     "metadata": {},
     "output_type": "execute_result"
    }
   ],
   "source": [
    "#show the top 2 datapoint of DataFrame \n",
    "df.head(2)"
   ]
  },
  {
   "cell_type": "code",
   "execution_count": 66,
   "id": "84c74461",
   "metadata": {},
   "outputs": [],
   "source": [
    "#copy the DataFrame\n",
    "data=df.copy()\n",
    "data1=data.copy()"
   ]
  },
  {
   "cell_type": "code",
   "execution_count": 67,
   "id": "f14a843f",
   "metadata": {},
   "outputs": [],
   "source": [
    "#onehotEncoder to convert categorical data into  numeric or boolean form\n",
    "data=pd.get_dummies(data['itemDescription'])"
   ]
  },
  {
   "cell_type": "code",
   "execution_count": 68,
   "id": "e2946726",
   "metadata": {},
   "outputs": [
    {
     "data": {
      "text/html": [
       "<div>\n",
       "<style scoped>\n",
       "    .dataframe tbody tr th:only-of-type {\n",
       "        vertical-align: middle;\n",
       "    }\n",
       "\n",
       "    .dataframe tbody tr th {\n",
       "        vertical-align: top;\n",
       "    }\n",
       "\n",
       "    .dataframe thead th {\n",
       "        text-align: right;\n",
       "    }\n",
       "</style>\n",
       "<table border=\"1\" class=\"dataframe\">\n",
       "  <thead>\n",
       "    <tr style=\"text-align: right;\">\n",
       "      <th></th>\n",
       "      <th>Instant food products</th>\n",
       "      <th>UHT-milk</th>\n",
       "      <th>abrasive cleaner</th>\n",
       "      <th>artif. sweetener</th>\n",
       "      <th>baby cosmetics</th>\n",
       "      <th>bags</th>\n",
       "      <th>baking powder</th>\n",
       "      <th>bathroom cleaner</th>\n",
       "      <th>beef</th>\n",
       "      <th>berries</th>\n",
       "      <th>...</th>\n",
       "      <th>turkey</th>\n",
       "      <th>vinegar</th>\n",
       "      <th>waffles</th>\n",
       "      <th>whipped/sour cream</th>\n",
       "      <th>whisky</th>\n",
       "      <th>white bread</th>\n",
       "      <th>white wine</th>\n",
       "      <th>whole milk</th>\n",
       "      <th>yogurt</th>\n",
       "      <th>zwieback</th>\n",
       "    </tr>\n",
       "  </thead>\n",
       "  <tbody>\n",
       "    <tr>\n",
       "      <th>0</th>\n",
       "      <td>False</td>\n",
       "      <td>False</td>\n",
       "      <td>False</td>\n",
       "      <td>False</td>\n",
       "      <td>False</td>\n",
       "      <td>False</td>\n",
       "      <td>False</td>\n",
       "      <td>False</td>\n",
       "      <td>False</td>\n",
       "      <td>False</td>\n",
       "      <td>...</td>\n",
       "      <td>False</td>\n",
       "      <td>False</td>\n",
       "      <td>False</td>\n",
       "      <td>False</td>\n",
       "      <td>False</td>\n",
       "      <td>False</td>\n",
       "      <td>False</td>\n",
       "      <td>False</td>\n",
       "      <td>False</td>\n",
       "      <td>False</td>\n",
       "    </tr>\n",
       "    <tr>\n",
       "      <th>1</th>\n",
       "      <td>False</td>\n",
       "      <td>False</td>\n",
       "      <td>False</td>\n",
       "      <td>False</td>\n",
       "      <td>False</td>\n",
       "      <td>False</td>\n",
       "      <td>False</td>\n",
       "      <td>False</td>\n",
       "      <td>False</td>\n",
       "      <td>False</td>\n",
       "      <td>...</td>\n",
       "      <td>False</td>\n",
       "      <td>False</td>\n",
       "      <td>False</td>\n",
       "      <td>False</td>\n",
       "      <td>False</td>\n",
       "      <td>False</td>\n",
       "      <td>False</td>\n",
       "      <td>True</td>\n",
       "      <td>False</td>\n",
       "      <td>False</td>\n",
       "    </tr>\n",
       "    <tr>\n",
       "      <th>2</th>\n",
       "      <td>False</td>\n",
       "      <td>False</td>\n",
       "      <td>False</td>\n",
       "      <td>False</td>\n",
       "      <td>False</td>\n",
       "      <td>False</td>\n",
       "      <td>False</td>\n",
       "      <td>False</td>\n",
       "      <td>False</td>\n",
       "      <td>False</td>\n",
       "      <td>...</td>\n",
       "      <td>False</td>\n",
       "      <td>False</td>\n",
       "      <td>False</td>\n",
       "      <td>False</td>\n",
       "      <td>False</td>\n",
       "      <td>False</td>\n",
       "      <td>False</td>\n",
       "      <td>False</td>\n",
       "      <td>False</td>\n",
       "      <td>False</td>\n",
       "    </tr>\n",
       "    <tr>\n",
       "      <th>3</th>\n",
       "      <td>False</td>\n",
       "      <td>False</td>\n",
       "      <td>False</td>\n",
       "      <td>False</td>\n",
       "      <td>False</td>\n",
       "      <td>False</td>\n",
       "      <td>False</td>\n",
       "      <td>False</td>\n",
       "      <td>False</td>\n",
       "      <td>False</td>\n",
       "      <td>...</td>\n",
       "      <td>False</td>\n",
       "      <td>False</td>\n",
       "      <td>False</td>\n",
       "      <td>False</td>\n",
       "      <td>False</td>\n",
       "      <td>False</td>\n",
       "      <td>False</td>\n",
       "      <td>False</td>\n",
       "      <td>False</td>\n",
       "      <td>False</td>\n",
       "    </tr>\n",
       "    <tr>\n",
       "      <th>4</th>\n",
       "      <td>False</td>\n",
       "      <td>False</td>\n",
       "      <td>False</td>\n",
       "      <td>False</td>\n",
       "      <td>False</td>\n",
       "      <td>False</td>\n",
       "      <td>False</td>\n",
       "      <td>False</td>\n",
       "      <td>False</td>\n",
       "      <td>False</td>\n",
       "      <td>...</td>\n",
       "      <td>False</td>\n",
       "      <td>False</td>\n",
       "      <td>False</td>\n",
       "      <td>False</td>\n",
       "      <td>False</td>\n",
       "      <td>False</td>\n",
       "      <td>False</td>\n",
       "      <td>True</td>\n",
       "      <td>False</td>\n",
       "      <td>False</td>\n",
       "    </tr>\n",
       "  </tbody>\n",
       "</table>\n",
       "<p>5 rows × 167 columns</p>\n",
       "</div>"
      ],
      "text/plain": [
       "   Instant food products  UHT-milk  abrasive cleaner  artif. sweetener  \\\n",
       "0                  False     False             False             False   \n",
       "1                  False     False             False             False   \n",
       "2                  False     False             False             False   \n",
       "3                  False     False             False             False   \n",
       "4                  False     False             False             False   \n",
       "\n",
       "   baby cosmetics   bags  baking powder  bathroom cleaner   beef  berries  \\\n",
       "0           False  False          False             False  False    False   \n",
       "1           False  False          False             False  False    False   \n",
       "2           False  False          False             False  False    False   \n",
       "3           False  False          False             False  False    False   \n",
       "4           False  False          False             False  False    False   \n",
       "\n",
       "   ...  turkey  vinegar  waffles  whipped/sour cream  whisky  white bread  \\\n",
       "0  ...   False    False    False               False   False        False   \n",
       "1  ...   False    False    False               False   False        False   \n",
       "2  ...   False    False    False               False   False        False   \n",
       "3  ...   False    False    False               False   False        False   \n",
       "4  ...   False    False    False               False   False        False   \n",
       "\n",
       "   white wine  whole milk  yogurt  zwieback  \n",
       "0       False       False   False     False  \n",
       "1       False        True   False     False  \n",
       "2       False       False   False     False  \n",
       "3       False       False   False     False  \n",
       "4       False        True   False     False  \n",
       "\n",
       "[5 rows x 167 columns]"
      ]
     },
     "execution_count": 68,
     "metadata": {},
     "output_type": "execute_result"
    }
   ],
   "source": [
    "#show the top 5 datapoint of DataFrame \n",
    "data.head()"
   ]
  },
  {
   "cell_type": "code",
   "execution_count": 69,
   "id": "e7203f0f",
   "metadata": {},
   "outputs": [],
   "source": [
    "#Drop the itemDescription from the DataFrame 'data1'\n",
    "data1.drop('itemDescription',axis=1,inplace=True)"
   ]
  },
  {
   "cell_type": "code",
   "execution_count": 70,
   "id": "ac3a8597",
   "metadata": {},
   "outputs": [],
   "source": [
    "#Join two dataframe 'data1' and 'data' \n",
    "data1=data1.join(data)"
   ]
  },
  {
   "cell_type": "code",
   "execution_count": 77,
   "id": "2aa12c63",
   "metadata": {},
   "outputs": [
    {
     "data": {
      "text/html": [
       "<div>\n",
       "<style scoped>\n",
       "    .dataframe tbody tr th:only-of-type {\n",
       "        vertical-align: middle;\n",
       "    }\n",
       "\n",
       "    .dataframe tbody tr th {\n",
       "        vertical-align: top;\n",
       "    }\n",
       "\n",
       "    .dataframe thead th {\n",
       "        text-align: right;\n",
       "    }\n",
       "</style>\n",
       "<table border=\"1\" class=\"dataframe\">\n",
       "  <thead>\n",
       "    <tr style=\"text-align: right;\">\n",
       "      <th></th>\n",
       "      <th>Member_number</th>\n",
       "      <th>Date</th>\n",
       "      <th>year</th>\n",
       "      <th>day</th>\n",
       "      <th>month</th>\n",
       "      <th>Instant food products</th>\n",
       "      <th>UHT-milk</th>\n",
       "      <th>abrasive cleaner</th>\n",
       "      <th>artif. sweetener</th>\n",
       "      <th>baby cosmetics</th>\n",
       "      <th>...</th>\n",
       "      <th>turkey</th>\n",
       "      <th>vinegar</th>\n",
       "      <th>waffles</th>\n",
       "      <th>whipped/sour cream</th>\n",
       "      <th>whisky</th>\n",
       "      <th>white bread</th>\n",
       "      <th>white wine</th>\n",
       "      <th>whole milk</th>\n",
       "      <th>yogurt</th>\n",
       "      <th>zwieback</th>\n",
       "    </tr>\n",
       "  </thead>\n",
       "  <tbody>\n",
       "    <tr>\n",
       "      <th>0</th>\n",
       "      <td>1808</td>\n",
       "      <td>21-07-2015</td>\n",
       "      <td>2015</td>\n",
       "      <td>21</td>\n",
       "      <td>7</td>\n",
       "      <td>False</td>\n",
       "      <td>False</td>\n",
       "      <td>False</td>\n",
       "      <td>False</td>\n",
       "      <td>False</td>\n",
       "      <td>...</td>\n",
       "      <td>False</td>\n",
       "      <td>False</td>\n",
       "      <td>False</td>\n",
       "      <td>False</td>\n",
       "      <td>False</td>\n",
       "      <td>False</td>\n",
       "      <td>False</td>\n",
       "      <td>False</td>\n",
       "      <td>False</td>\n",
       "      <td>False</td>\n",
       "    </tr>\n",
       "    <tr>\n",
       "      <th>1</th>\n",
       "      <td>2552</td>\n",
       "      <td>05-01-2015</td>\n",
       "      <td>2015</td>\n",
       "      <td>1</td>\n",
       "      <td>5</td>\n",
       "      <td>False</td>\n",
       "      <td>False</td>\n",
       "      <td>False</td>\n",
       "      <td>False</td>\n",
       "      <td>False</td>\n",
       "      <td>...</td>\n",
       "      <td>False</td>\n",
       "      <td>False</td>\n",
       "      <td>False</td>\n",
       "      <td>False</td>\n",
       "      <td>False</td>\n",
       "      <td>False</td>\n",
       "      <td>False</td>\n",
       "      <td>True</td>\n",
       "      <td>False</td>\n",
       "      <td>False</td>\n",
       "    </tr>\n",
       "  </tbody>\n",
       "</table>\n",
       "<p>2 rows × 172 columns</p>\n",
       "</div>"
      ],
      "text/plain": [
       "   Member_number        Date  year  day  month  Instant food products  \\\n",
       "0           1808  21-07-2015  2015   21      7                  False   \n",
       "1           2552  05-01-2015  2015    1      5                  False   \n",
       "\n",
       "   UHT-milk  abrasive cleaner  artif. sweetener  baby cosmetics  ...  turkey  \\\n",
       "0     False             False             False           False  ...   False   \n",
       "1     False             False             False           False  ...   False   \n",
       "\n",
       "   vinegar  waffles  whipped/sour cream  whisky  white bread  white wine  \\\n",
       "0    False    False               False   False        False       False   \n",
       "1    False    False               False   False        False       False   \n",
       "\n",
       "   whole milk  yogurt  zwieback  \n",
       "0       False   False     False  \n",
       "1        True   False     False  \n",
       "\n",
       "[2 rows x 172 columns]"
      ]
     },
     "execution_count": 77,
     "metadata": {},
     "output_type": "execute_result"
    }
   ],
   "source": [
    "#show the top 2 datapoint of DataFrame \n",
    "data1.head(2)"
   ]
  },
  {
   "cell_type": "code",
   "execution_count": 72,
   "id": "ee5b350c",
   "metadata": {},
   "outputs": [],
   "source": [
    "#create the list of unique product from DataFrame \n",
    "products=df['itemDescription'].unique()"
   ]
  },
  {
   "cell_type": "code",
   "execution_count": 73,
   "id": "57615b29",
   "metadata": {},
   "outputs": [
    {
     "data": {
      "text/plain": [
       "array(['tropical fruit', 'whole milk', 'pip fruit', 'other vegetables',\n",
       "       'rolls/buns', 'pot plants', 'citrus fruit', 'beef', 'frankfurter',\n",
       "       'chicken', 'butter', 'fruit/vegetable juice',\n",
       "       'packaged fruit/vegetables', 'chocolate', 'specialty bar',\n",
       "       'butter milk', 'bottled water', 'yogurt', 'sausage', 'brown bread',\n",
       "       'hamburger meat', 'root vegetables', 'pork', 'pastry',\n",
       "       'canned beer', 'berries', 'coffee', 'misc. beverages', 'ham',\n",
       "       'turkey', 'curd cheese', 'red/blush wine',\n",
       "       'frozen potato products', 'flour', 'sugar', 'frozen meals',\n",
       "       'herbs', 'soda', 'detergent', 'grapes', 'processed cheese', 'fish',\n",
       "       'sparkling wine', 'newspapers', 'curd', 'pasta', 'popcorn',\n",
       "       'finished products', 'beverages', 'bottled beer', 'dessert',\n",
       "       'dog food', 'specialty chocolate', 'condensed milk', 'cleaner',\n",
       "       'white wine', 'meat', 'ice cream', 'hard cheese', 'cream cheese ',\n",
       "       'liquor', 'pickled vegetables', 'liquor (appetizer)', 'UHT-milk',\n",
       "       'candy', 'onions', 'hair spray', 'photo/film', 'domestic eggs',\n",
       "       'margarine', 'shopping bags', 'salt', 'oil', 'whipped/sour cream',\n",
       "       'frozen vegetables', 'sliced cheese', 'dish cleaner',\n",
       "       'baking powder', 'specialty cheese', 'salty snack',\n",
       "       'Instant food products', 'pet care', 'white bread',\n",
       "       'female sanitary products', 'cling film/bags', 'soap',\n",
       "       'frozen chicken', 'house keeping products', 'spread cheese',\n",
       "       'decalcifier', 'frozen dessert', 'vinegar', 'nuts/prunes',\n",
       "       'potato products', 'frozen fish', 'hygiene articles',\n",
       "       'artif. sweetener', 'light bulbs', 'canned vegetables',\n",
       "       'chewing gum', 'canned fish', 'cookware', 'semi-finished bread',\n",
       "       'cat food', 'bathroom cleaner', 'prosecco', 'liver loaf',\n",
       "       'zwieback', 'canned fruit', 'frozen fruits', 'brandy',\n",
       "       'baby cosmetics', 'spices', 'napkins', 'waffles', 'sauces', 'rum',\n",
       "       'chocolate marshmallow', 'long life bakery product', 'bags',\n",
       "       'sweet spreads', 'soups', 'mustard', 'specialty fat',\n",
       "       'instant coffee', 'snack products', 'organic sausage',\n",
       "       'soft cheese', 'mayonnaise', 'dental care', 'roll products ',\n",
       "       'kitchen towels', 'flower soil/fertilizer', 'cereals',\n",
       "       'meat spreads', 'dishes', 'male cosmetics', 'candles', 'whisky',\n",
       "       'tidbits', 'cooking chocolate', 'seasonal products', 'liqueur',\n",
       "       'abrasive cleaner', 'syrup', 'ketchup', 'cream', 'skin care',\n",
       "       'rubbing alcohol', 'nut snack', 'cocoa drinks', 'softener',\n",
       "       'organic products', 'cake bar', 'honey', 'jam', 'kitchen utensil',\n",
       "       'flower (seeds)', 'rice', 'tea', 'salad dressing',\n",
       "       'specialty vegetables', 'pudding powder', 'ready soups',\n",
       "       'make up remover', 'toilet cleaner', 'preservation products'],\n",
       "      dtype=object)"
      ]
     },
     "execution_count": 73,
     "metadata": {},
     "output_type": "execute_result"
    }
   ],
   "source": [
    "#Show all product \n",
    "products"
   ]
  },
  {
   "cell_type": "code",
   "execution_count": 74,
   "id": "147929c2",
   "metadata": {},
   "outputs": [],
   "source": [
    "# particular member buy which date and product \n",
    "data2=data1.groupby(['Member_number',\"Date\"])[products[:]].sum()"
   ]
  },
  {
   "cell_type": "code",
   "execution_count": 75,
   "id": "3dc9803a",
   "metadata": {},
   "outputs": [],
   "source": [
    "#Reset the Index of DataFrame 'data2'\n",
    "data2=data2.reset_index()[products]"
   ]
  },
  {
   "cell_type": "code",
   "execution_count": 76,
   "id": "ade8ec54",
   "metadata": {},
   "outputs": [
    {
     "data": {
      "text/html": [
       "<div>\n",
       "<style scoped>\n",
       "    .dataframe tbody tr th:only-of-type {\n",
       "        vertical-align: middle;\n",
       "    }\n",
       "\n",
       "    .dataframe tbody tr th {\n",
       "        vertical-align: top;\n",
       "    }\n",
       "\n",
       "    .dataframe thead th {\n",
       "        text-align: right;\n",
       "    }\n",
       "</style>\n",
       "<table border=\"1\" class=\"dataframe\">\n",
       "  <thead>\n",
       "    <tr style=\"text-align: right;\">\n",
       "      <th></th>\n",
       "      <th>tropical fruit</th>\n",
       "      <th>whole milk</th>\n",
       "      <th>pip fruit</th>\n",
       "      <th>other vegetables</th>\n",
       "      <th>rolls/buns</th>\n",
       "      <th>pot plants</th>\n",
       "      <th>citrus fruit</th>\n",
       "      <th>beef</th>\n",
       "      <th>frankfurter</th>\n",
       "      <th>chicken</th>\n",
       "      <th>...</th>\n",
       "      <th>flower (seeds)</th>\n",
       "      <th>rice</th>\n",
       "      <th>tea</th>\n",
       "      <th>salad dressing</th>\n",
       "      <th>specialty vegetables</th>\n",
       "      <th>pudding powder</th>\n",
       "      <th>ready soups</th>\n",
       "      <th>make up remover</th>\n",
       "      <th>toilet cleaner</th>\n",
       "      <th>preservation products</th>\n",
       "    </tr>\n",
       "  </thead>\n",
       "  <tbody>\n",
       "    <tr>\n",
       "      <th>0</th>\n",
       "      <td>0</td>\n",
       "      <td>1</td>\n",
       "      <td>0</td>\n",
       "      <td>0</td>\n",
       "      <td>0</td>\n",
       "      <td>0</td>\n",
       "      <td>0</td>\n",
       "      <td>0</td>\n",
       "      <td>0</td>\n",
       "      <td>0</td>\n",
       "      <td>...</td>\n",
       "      <td>0</td>\n",
       "      <td>0</td>\n",
       "      <td>0</td>\n",
       "      <td>0</td>\n",
       "      <td>0</td>\n",
       "      <td>0</td>\n",
       "      <td>0</td>\n",
       "      <td>0</td>\n",
       "      <td>0</td>\n",
       "      <td>0</td>\n",
       "    </tr>\n",
       "    <tr>\n",
       "      <th>1</th>\n",
       "      <td>0</td>\n",
       "      <td>1</td>\n",
       "      <td>0</td>\n",
       "      <td>0</td>\n",
       "      <td>0</td>\n",
       "      <td>0</td>\n",
       "      <td>0</td>\n",
       "      <td>0</td>\n",
       "      <td>0</td>\n",
       "      <td>0</td>\n",
       "      <td>...</td>\n",
       "      <td>0</td>\n",
       "      <td>0</td>\n",
       "      <td>0</td>\n",
       "      <td>0</td>\n",
       "      <td>0</td>\n",
       "      <td>0</td>\n",
       "      <td>0</td>\n",
       "      <td>0</td>\n",
       "      <td>0</td>\n",
       "      <td>0</td>\n",
       "    </tr>\n",
       "    <tr>\n",
       "      <th>2</th>\n",
       "      <td>0</td>\n",
       "      <td>0</td>\n",
       "      <td>0</td>\n",
       "      <td>0</td>\n",
       "      <td>0</td>\n",
       "      <td>0</td>\n",
       "      <td>0</td>\n",
       "      <td>0</td>\n",
       "      <td>0</td>\n",
       "      <td>0</td>\n",
       "      <td>...</td>\n",
       "      <td>0</td>\n",
       "      <td>0</td>\n",
       "      <td>0</td>\n",
       "      <td>0</td>\n",
       "      <td>0</td>\n",
       "      <td>0</td>\n",
       "      <td>0</td>\n",
       "      <td>0</td>\n",
       "      <td>0</td>\n",
       "      <td>0</td>\n",
       "    </tr>\n",
       "    <tr>\n",
       "      <th>3</th>\n",
       "      <td>0</td>\n",
       "      <td>0</td>\n",
       "      <td>0</td>\n",
       "      <td>0</td>\n",
       "      <td>0</td>\n",
       "      <td>0</td>\n",
       "      <td>0</td>\n",
       "      <td>0</td>\n",
       "      <td>0</td>\n",
       "      <td>0</td>\n",
       "      <td>...</td>\n",
       "      <td>0</td>\n",
       "      <td>0</td>\n",
       "      <td>0</td>\n",
       "      <td>0</td>\n",
       "      <td>0</td>\n",
       "      <td>0</td>\n",
       "      <td>0</td>\n",
       "      <td>0</td>\n",
       "      <td>0</td>\n",
       "      <td>0</td>\n",
       "    </tr>\n",
       "    <tr>\n",
       "      <th>4</th>\n",
       "      <td>0</td>\n",
       "      <td>0</td>\n",
       "      <td>0</td>\n",
       "      <td>0</td>\n",
       "      <td>0</td>\n",
       "      <td>0</td>\n",
       "      <td>0</td>\n",
       "      <td>0</td>\n",
       "      <td>0</td>\n",
       "      <td>0</td>\n",
       "      <td>...</td>\n",
       "      <td>0</td>\n",
       "      <td>0</td>\n",
       "      <td>0</td>\n",
       "      <td>0</td>\n",
       "      <td>0</td>\n",
       "      <td>0</td>\n",
       "      <td>0</td>\n",
       "      <td>0</td>\n",
       "      <td>0</td>\n",
       "      <td>0</td>\n",
       "    </tr>\n",
       "  </tbody>\n",
       "</table>\n",
       "<p>5 rows × 167 columns</p>\n",
       "</div>"
      ],
      "text/plain": [
       "   tropical fruit  whole milk  pip fruit  other vegetables  rolls/buns  \\\n",
       "0               0           1          0                 0           0   \n",
       "1               0           1          0                 0           0   \n",
       "2               0           0          0                 0           0   \n",
       "3               0           0          0                 0           0   \n",
       "4               0           0          0                 0           0   \n",
       "\n",
       "   pot plants  citrus fruit  beef  frankfurter  chicken  ...  flower (seeds)  \\\n",
       "0           0             0     0            0        0  ...               0   \n",
       "1           0             0     0            0        0  ...               0   \n",
       "2           0             0     0            0        0  ...               0   \n",
       "3           0             0     0            0        0  ...               0   \n",
       "4           0             0     0            0        0  ...               0   \n",
       "\n",
       "   rice  tea  salad dressing  specialty vegetables  pudding powder  \\\n",
       "0     0    0               0                     0               0   \n",
       "1     0    0               0                     0               0   \n",
       "2     0    0               0                     0               0   \n",
       "3     0    0               0                     0               0   \n",
       "4     0    0               0                     0               0   \n",
       "\n",
       "   ready soups  make up remover  toilet cleaner  preservation products  \n",
       "0            0                0               0                      0  \n",
       "1            0                0               0                      0  \n",
       "2            0                0               0                      0  \n",
       "3            0                0               0                      0  \n",
       "4            0                0               0                      0  \n",
       "\n",
       "[5 rows x 167 columns]"
      ]
     },
     "execution_count": 76,
     "metadata": {},
     "output_type": "execute_result"
    }
   ],
   "source": [
    "#show the top 5 datapoint of DataFrame \n",
    "data2.head()"
   ]
  },
  {
   "cell_type": "code",
   "execution_count": 81,
   "id": "aae3c50d",
   "metadata": {},
   "outputs": [],
   "source": [
    "#Create the function to replace all 1's with respective column name \n",
    "def func(data):\n",
    "    for i in products:\n",
    "        if data[i]>0:\n",
    "            data[i]=i\n",
    "    return data\n",
    "        "
   ]
  },
  {
   "cell_type": "code",
   "execution_count": 84,
   "id": "f6eda279",
   "metadata": {},
   "outputs": [
    {
     "name": "stderr",
     "output_type": "stream",
     "text": [
      "C:\\Users\\asus\\AppData\\Local\\Temp\\ipykernel_18632\\2884344509.py:4: FutureWarning: Setting an item of incompatible dtype is deprecated and will raise an error in a future version of pandas. Value 'whole milk' has dtype incompatible with int64, please explicitly cast to a compatible dtype first.\n",
      "  data[i]=i\n",
      "C:\\Users\\asus\\AppData\\Local\\Temp\\ipykernel_18632\\2884344509.py:4: FutureWarning: Setting an item of incompatible dtype is deprecated and will raise an error in a future version of pandas. Value 'canned beer' has dtype incompatible with int64, please explicitly cast to a compatible dtype first.\n",
      "  data[i]=i\n",
      "C:\\Users\\asus\\AppData\\Local\\Temp\\ipykernel_18632\\2884344509.py:4: FutureWarning: Setting an item of incompatible dtype is deprecated and will raise an error in a future version of pandas. Value 'sausage' has dtype incompatible with int64, please explicitly cast to a compatible dtype first.\n",
      "  data[i]=i\n",
      "C:\\Users\\asus\\AppData\\Local\\Temp\\ipykernel_18632\\2884344509.py:4: FutureWarning: Setting an item of incompatible dtype is deprecated and will raise an error in a future version of pandas. Value 'soda' has dtype incompatible with int64, please explicitly cast to a compatible dtype first.\n",
      "  data[i]=i\n",
      "C:\\Users\\asus\\AppData\\Local\\Temp\\ipykernel_18632\\2884344509.py:4: FutureWarning: Setting an item of incompatible dtype is deprecated and will raise an error in a future version of pandas. Value 'frankfurter' has dtype incompatible with int64, please explicitly cast to a compatible dtype first.\n",
      "  data[i]=i\n",
      "C:\\Users\\asus\\AppData\\Local\\Temp\\ipykernel_18632\\2884344509.py:4: FutureWarning: Setting an item of incompatible dtype is deprecated and will raise an error in a future version of pandas. Value 'beef' has dtype incompatible with int64, please explicitly cast to a compatible dtype first.\n",
      "  data[i]=i\n",
      "C:\\Users\\asus\\AppData\\Local\\Temp\\ipykernel_18632\\2884344509.py:4: FutureWarning: Setting an item of incompatible dtype is deprecated and will raise an error in a future version of pandas. Value 'other vegetables' has dtype incompatible with int64, please explicitly cast to a compatible dtype first.\n",
      "  data[i]=i\n",
      "C:\\Users\\asus\\AppData\\Local\\Temp\\ipykernel_18632\\2884344509.py:4: FutureWarning: Setting an item of incompatible dtype is deprecated and will raise an error in a future version of pandas. Value 'tropical fruit' has dtype incompatible with int64, please explicitly cast to a compatible dtype first.\n",
      "  data[i]=i\n",
      "C:\\Users\\asus\\AppData\\Local\\Temp\\ipykernel_18632\\2884344509.py:4: FutureWarning: Setting an item of incompatible dtype is deprecated and will raise an error in a future version of pandas. Value 'butter milk' has dtype incompatible with int64, please explicitly cast to a compatible dtype first.\n",
      "  data[i]=i\n",
      "C:\\Users\\asus\\AppData\\Local\\Temp\\ipykernel_18632\\2884344509.py:4: FutureWarning: Setting an item of incompatible dtype is deprecated and will raise an error in a future version of pandas. Value 'rolls/buns' has dtype incompatible with int64, please explicitly cast to a compatible dtype first.\n",
      "  data[i]=i\n",
      "C:\\Users\\asus\\AppData\\Local\\Temp\\ipykernel_18632\\2884344509.py:4: FutureWarning: Setting an item of incompatible dtype is deprecated and will raise an error in a future version of pandas. Value 'root vegetables' has dtype incompatible with int64, please explicitly cast to a compatible dtype first.\n",
      "  data[i]=i\n",
      "C:\\Users\\asus\\AppData\\Local\\Temp\\ipykernel_18632\\2884344509.py:4: FutureWarning: Setting an item of incompatible dtype is deprecated and will raise an error in a future version of pandas. Value 'frozen meals' has dtype incompatible with int64, please explicitly cast to a compatible dtype first.\n",
      "  data[i]=i\n",
      "C:\\Users\\asus\\AppData\\Local\\Temp\\ipykernel_18632\\2884344509.py:4: FutureWarning: Setting an item of incompatible dtype is deprecated and will raise an error in a future version of pandas. Value 'dish cleaner' has dtype incompatible with int64, please explicitly cast to a compatible dtype first.\n",
      "  data[i]=i\n",
      "C:\\Users\\asus\\AppData\\Local\\Temp\\ipykernel_18632\\2884344509.py:4: FutureWarning: Setting an item of incompatible dtype is deprecated and will raise an error in a future version of pandas. Value 'margarine' has dtype incompatible with int64, please explicitly cast to a compatible dtype first.\n",
      "  data[i]=i\n",
      "C:\\Users\\asus\\AppData\\Local\\Temp\\ipykernel_18632\\2884344509.py:4: FutureWarning: Setting an item of incompatible dtype is deprecated and will raise an error in a future version of pandas. Value 'shopping bags' has dtype incompatible with int64, please explicitly cast to a compatible dtype first.\n",
      "  data[i]=i\n",
      "C:\\Users\\asus\\AppData\\Local\\Temp\\ipykernel_18632\\2884344509.py:4: FutureWarning: Setting an item of incompatible dtype is deprecated and will raise an error in a future version of pandas. Value 'hamburger meat' has dtype incompatible with int64, please explicitly cast to a compatible dtype first.\n",
      "  data[i]=i\n",
      "C:\\Users\\asus\\AppData\\Local\\Temp\\ipykernel_18632\\2884344509.py:4: FutureWarning: Setting an item of incompatible dtype is deprecated and will raise an error in a future version of pandas. Value 'yogurt' has dtype incompatible with int64, please explicitly cast to a compatible dtype first.\n",
      "  data[i]=i\n",
      "C:\\Users\\asus\\AppData\\Local\\Temp\\ipykernel_18632\\2884344509.py:4: FutureWarning: Setting an item of incompatible dtype is deprecated and will raise an error in a future version of pandas. Value 'pastry' has dtype incompatible with int64, please explicitly cast to a compatible dtype first.\n",
      "  data[i]=i\n",
      "C:\\Users\\asus\\AppData\\Local\\Temp\\ipykernel_18632\\2884344509.py:4: FutureWarning: Setting an item of incompatible dtype is deprecated and will raise an error in a future version of pandas. Value 'canned fish' has dtype incompatible with int64, please explicitly cast to a compatible dtype first.\n",
      "  data[i]=i\n",
      "C:\\Users\\asus\\AppData\\Local\\Temp\\ipykernel_18632\\2884344509.py:4: FutureWarning: Setting an item of incompatible dtype is deprecated and will raise an error in a future version of pandas. Value 'pip fruit' has dtype incompatible with int64, please explicitly cast to a compatible dtype first.\n",
      "  data[i]=i\n",
      "C:\\Users\\asus\\AppData\\Local\\Temp\\ipykernel_18632\\2884344509.py:4: FutureWarning: Setting an item of incompatible dtype is deprecated and will raise an error in a future version of pandas. Value 'sliced cheese' has dtype incompatible with int64, please explicitly cast to a compatible dtype first.\n",
      "  data[i]=i\n",
      "C:\\Users\\asus\\AppData\\Local\\Temp\\ipykernel_18632\\2884344509.py:4: FutureWarning: Setting an item of incompatible dtype is deprecated and will raise an error in a future version of pandas. Value 'specialty bar' has dtype incompatible with int64, please explicitly cast to a compatible dtype first.\n",
      "  data[i]=i\n",
      "C:\\Users\\asus\\AppData\\Local\\Temp\\ipykernel_18632\\2884344509.py:4: FutureWarning: Setting an item of incompatible dtype is deprecated and will raise an error in a future version of pandas. Value 'brown bread' has dtype incompatible with int64, please explicitly cast to a compatible dtype first.\n",
      "  data[i]=i\n",
      "C:\\Users\\asus\\AppData\\Local\\Temp\\ipykernel_18632\\2884344509.py:4: FutureWarning: Setting an item of incompatible dtype is deprecated and will raise an error in a future version of pandas. Value 'meat' has dtype incompatible with int64, please explicitly cast to a compatible dtype first.\n",
      "  data[i]=i\n",
      "C:\\Users\\asus\\AppData\\Local\\Temp\\ipykernel_18632\\2884344509.py:4: FutureWarning: Setting an item of incompatible dtype is deprecated and will raise an error in a future version of pandas. Value 'bottled water' has dtype incompatible with int64, please explicitly cast to a compatible dtype first.\n",
      "  data[i]=i\n",
      "C:\\Users\\asus\\AppData\\Local\\Temp\\ipykernel_18632\\2884344509.py:4: FutureWarning: Setting an item of incompatible dtype is deprecated and will raise an error in a future version of pandas. Value 'whipped/sour cream' has dtype incompatible with int64, please explicitly cast to a compatible dtype first.\n",
      "  data[i]=i\n",
      "C:\\Users\\asus\\AppData\\Local\\Temp\\ipykernel_18632\\2884344509.py:4: FutureWarning: Setting an item of incompatible dtype is deprecated and will raise an error in a future version of pandas. Value 'bottled beer' has dtype incompatible with int64, please explicitly cast to a compatible dtype first.\n",
      "  data[i]=i\n",
      "C:\\Users\\asus\\AppData\\Local\\Temp\\ipykernel_18632\\2884344509.py:4: FutureWarning: Setting an item of incompatible dtype is deprecated and will raise an error in a future version of pandas. Value 'chicken' has dtype incompatible with int64, please explicitly cast to a compatible dtype first.\n",
      "  data[i]=i\n",
      "C:\\Users\\asus\\AppData\\Local\\Temp\\ipykernel_18632\\2884344509.py:4: FutureWarning: Setting an item of incompatible dtype is deprecated and will raise an error in a future version of pandas. Value 'curd' has dtype incompatible with int64, please explicitly cast to a compatible dtype first.\n",
      "  data[i]=i\n",
      "C:\\Users\\asus\\AppData\\Local\\Temp\\ipykernel_18632\\2884344509.py:4: FutureWarning: Setting an item of incompatible dtype is deprecated and will raise an error in a future version of pandas. Value 'beverages' has dtype incompatible with int64, please explicitly cast to a compatible dtype first.\n",
      "  data[i]=i\n",
      "C:\\Users\\asus\\AppData\\Local\\Temp\\ipykernel_18632\\2884344509.py:4: FutureWarning: Setting an item of incompatible dtype is deprecated and will raise an error in a future version of pandas. Value 'berries' has dtype incompatible with int64, please explicitly cast to a compatible dtype first.\n",
      "  data[i]=i\n",
      "C:\\Users\\asus\\AppData\\Local\\Temp\\ipykernel_18632\\2884344509.py:4: FutureWarning: Setting an item of incompatible dtype is deprecated and will raise an error in a future version of pandas. Value 'butter' has dtype incompatible with int64, please explicitly cast to a compatible dtype first.\n",
      "  data[i]=i\n",
      "C:\\Users\\asus\\AppData\\Local\\Temp\\ipykernel_18632\\2884344509.py:4: FutureWarning: Setting an item of incompatible dtype is deprecated and will raise an error in a future version of pandas. Value 'fruit/vegetable juice' has dtype incompatible with int64, please explicitly cast to a compatible dtype first.\n",
      "  data[i]=i\n",
      "C:\\Users\\asus\\AppData\\Local\\Temp\\ipykernel_18632\\2884344509.py:4: FutureWarning: Setting an item of incompatible dtype is deprecated and will raise an error in a future version of pandas. Value 'coffee' has dtype incompatible with int64, please explicitly cast to a compatible dtype first.\n",
      "  data[i]=i\n",
      "C:\\Users\\asus\\AppData\\Local\\Temp\\ipykernel_18632\\2884344509.py:4: FutureWarning: Setting an item of incompatible dtype is deprecated and will raise an error in a future version of pandas. Value 'ham' has dtype incompatible with int64, please explicitly cast to a compatible dtype first.\n",
      "  data[i]=i\n",
      "C:\\Users\\asus\\AppData\\Local\\Temp\\ipykernel_18632\\2884344509.py:4: FutureWarning: Setting an item of incompatible dtype is deprecated and will raise an error in a future version of pandas. Value 'citrus fruit' has dtype incompatible with int64, please explicitly cast to a compatible dtype first.\n",
      "  data[i]=i\n",
      "C:\\Users\\asus\\AppData\\Local\\Temp\\ipykernel_18632\\2884344509.py:4: FutureWarning: Setting an item of incompatible dtype is deprecated and will raise an error in a future version of pandas. Value 'pot plants' has dtype incompatible with int64, please explicitly cast to a compatible dtype first.\n",
      "  data[i]=i\n",
      "C:\\Users\\asus\\AppData\\Local\\Temp\\ipykernel_18632\\2884344509.py:4: FutureWarning: Setting an item of incompatible dtype is deprecated and will raise an error in a future version of pandas. Value 'ice cream' has dtype incompatible with int64, please explicitly cast to a compatible dtype first.\n",
      "  data[i]=i\n",
      "C:\\Users\\asus\\AppData\\Local\\Temp\\ipykernel_18632\\2884344509.py:4: FutureWarning: Setting an item of incompatible dtype is deprecated and will raise an error in a future version of pandas. Value 'newspapers' has dtype incompatible with int64, please explicitly cast to a compatible dtype first.\n",
      "  data[i]=i\n",
      "C:\\Users\\asus\\AppData\\Local\\Temp\\ipykernel_18632\\2884344509.py:4: FutureWarning: Setting an item of incompatible dtype is deprecated and will raise an error in a future version of pandas. Value 'dessert' has dtype incompatible with int64, please explicitly cast to a compatible dtype first.\n",
      "  data[i]=i\n",
      "C:\\Users\\asus\\AppData\\Local\\Temp\\ipykernel_18632\\2884344509.py:4: FutureWarning: Setting an item of incompatible dtype is deprecated and will raise an error in a future version of pandas. Value 'candy' has dtype incompatible with int64, please explicitly cast to a compatible dtype first.\n",
      "  data[i]=i\n",
      "C:\\Users\\asus\\AppData\\Local\\Temp\\ipykernel_18632\\2884344509.py:4: FutureWarning: Setting an item of incompatible dtype is deprecated and will raise an error in a future version of pandas. Value 'pork' has dtype incompatible with int64, please explicitly cast to a compatible dtype first.\n",
      "  data[i]=i\n",
      "C:\\Users\\asus\\AppData\\Local\\Temp\\ipykernel_18632\\2884344509.py:4: FutureWarning: Setting an item of incompatible dtype is deprecated and will raise an error in a future version of pandas. Value 'pickled vegetables' has dtype incompatible with int64, please explicitly cast to a compatible dtype first.\n",
      "  data[i]=i\n",
      "C:\\Users\\asus\\AppData\\Local\\Temp\\ipykernel_18632\\2884344509.py:4: FutureWarning: Setting an item of incompatible dtype is deprecated and will raise an error in a future version of pandas. Value 'hard cheese' has dtype incompatible with int64, please explicitly cast to a compatible dtype first.\n",
      "  data[i]=i\n",
      "C:\\Users\\asus\\AppData\\Local\\Temp\\ipykernel_18632\\2884344509.py:4: FutureWarning: Setting an item of incompatible dtype is deprecated and will raise an error in a future version of pandas. Value 'white bread' has dtype incompatible with int64, please explicitly cast to a compatible dtype first.\n",
      "  data[i]=i\n",
      "C:\\Users\\asus\\AppData\\Local\\Temp\\ipykernel_18632\\2884344509.py:4: FutureWarning: Setting an item of incompatible dtype is deprecated and will raise an error in a future version of pandas. Value 'red/blush wine' has dtype incompatible with int64, please explicitly cast to a compatible dtype first.\n",
      "  data[i]=i\n",
      "C:\\Users\\asus\\AppData\\Local\\Temp\\ipykernel_18632\\2884344509.py:4: FutureWarning: Setting an item of incompatible dtype is deprecated and will raise an error in a future version of pandas. Value 'domestic eggs' has dtype incompatible with int64, please explicitly cast to a compatible dtype first.\n",
      "  data[i]=i\n",
      "C:\\Users\\asus\\AppData\\Local\\Temp\\ipykernel_18632\\2884344509.py:4: FutureWarning: Setting an item of incompatible dtype is deprecated and will raise an error in a future version of pandas. Value 'semi-finished bread' has dtype incompatible with int64, please explicitly cast to a compatible dtype first.\n",
      "  data[i]=i\n",
      "C:\\Users\\asus\\AppData\\Local\\Temp\\ipykernel_18632\\2884344509.py:4: FutureWarning: Setting an item of incompatible dtype is deprecated and will raise an error in a future version of pandas. Value 'misc. beverages' has dtype incompatible with int64, please explicitly cast to a compatible dtype first.\n",
      "  data[i]=i\n",
      "C:\\Users\\asus\\AppData\\Local\\Temp\\ipykernel_18632\\2884344509.py:4: FutureWarning: Setting an item of incompatible dtype is deprecated and will raise an error in a future version of pandas. Value 'detergent' has dtype incompatible with int64, please explicitly cast to a compatible dtype first.\n",
      "  data[i]=i\n",
      "C:\\Users\\asus\\AppData\\Local\\Temp\\ipykernel_18632\\2884344509.py:4: FutureWarning: Setting an item of incompatible dtype is deprecated and will raise an error in a future version of pandas. Value 'UHT-milk' has dtype incompatible with int64, please explicitly cast to a compatible dtype first.\n",
      "  data[i]=i\n",
      "C:\\Users\\asus\\AppData\\Local\\Temp\\ipykernel_18632\\2884344509.py:4: FutureWarning: Setting an item of incompatible dtype is deprecated and will raise an error in a future version of pandas. Value 'specialty chocolate' has dtype incompatible with int64, please explicitly cast to a compatible dtype first.\n",
      "  data[i]=i\n",
      "C:\\Users\\asus\\AppData\\Local\\Temp\\ipykernel_18632\\2884344509.py:4: FutureWarning: Setting an item of incompatible dtype is deprecated and will raise an error in a future version of pandas. Value 'photo/film' has dtype incompatible with int64, please explicitly cast to a compatible dtype first.\n",
      "  data[i]=i\n",
      "C:\\Users\\asus\\AppData\\Local\\Temp\\ipykernel_18632\\2884344509.py:4: FutureWarning: Setting an item of incompatible dtype is deprecated and will raise an error in a future version of pandas. Value 'flour' has dtype incompatible with int64, please explicitly cast to a compatible dtype first.\n",
      "  data[i]=i\n",
      "C:\\Users\\asus\\AppData\\Local\\Temp\\ipykernel_18632\\2884344509.py:4: FutureWarning: Setting an item of incompatible dtype is deprecated and will raise an error in a future version of pandas. Value 'packaged fruit/vegetables' has dtype incompatible with int64, please explicitly cast to a compatible dtype first.\n",
      "  data[i]=i\n",
      "C:\\Users\\asus\\AppData\\Local\\Temp\\ipykernel_18632\\2884344509.py:4: FutureWarning: Setting an item of incompatible dtype is deprecated and will raise an error in a future version of pandas. Value 'white wine' has dtype incompatible with int64, please explicitly cast to a compatible dtype first.\n",
      "  data[i]=i\n",
      "C:\\Users\\asus\\AppData\\Local\\Temp\\ipykernel_18632\\2884344509.py:4: FutureWarning: Setting an item of incompatible dtype is deprecated and will raise an error in a future version of pandas. Value 'herbs' has dtype incompatible with int64, please explicitly cast to a compatible dtype first.\n",
      "  data[i]=i\n",
      "C:\\Users\\asus\\AppData\\Local\\Temp\\ipykernel_18632\\2884344509.py:4: FutureWarning: Setting an item of incompatible dtype is deprecated and will raise an error in a future version of pandas. Value 'hygiene articles' has dtype incompatible with int64, please explicitly cast to a compatible dtype first.\n",
      "  data[i]=i\n",
      "C:\\Users\\asus\\AppData\\Local\\Temp\\ipykernel_18632\\2884344509.py:4: FutureWarning: Setting an item of incompatible dtype is deprecated and will raise an error in a future version of pandas. Value 'frozen potato products' has dtype incompatible with int64, please explicitly cast to a compatible dtype first.\n",
      "  data[i]=i\n",
      "C:\\Users\\asus\\AppData\\Local\\Temp\\ipykernel_18632\\2884344509.py:4: FutureWarning: Setting an item of incompatible dtype is deprecated and will raise an error in a future version of pandas. Value 'sugar' has dtype incompatible with int64, please explicitly cast to a compatible dtype first.\n",
      "  data[i]=i\n",
      "C:\\Users\\asus\\AppData\\Local\\Temp\\ipykernel_18632\\2884344509.py:4: FutureWarning: Setting an item of incompatible dtype is deprecated and will raise an error in a future version of pandas. Value 'chocolate' has dtype incompatible with int64, please explicitly cast to a compatible dtype first.\n",
      "  data[i]=i\n",
      "C:\\Users\\asus\\AppData\\Local\\Temp\\ipykernel_18632\\2884344509.py:4: FutureWarning: Setting an item of incompatible dtype is deprecated and will raise an error in a future version of pandas. Value 'liquor' has dtype incompatible with int64, please explicitly cast to a compatible dtype first.\n",
      "  data[i]=i\n",
      "C:\\Users\\asus\\AppData\\Local\\Temp\\ipykernel_18632\\2884344509.py:4: FutureWarning: Setting an item of incompatible dtype is deprecated and will raise an error in a future version of pandas. Value 'condensed milk' has dtype incompatible with int64, please explicitly cast to a compatible dtype first.\n",
      "  data[i]=i\n",
      "C:\\Users\\asus\\AppData\\Local\\Temp\\ipykernel_18632\\2884344509.py:4: FutureWarning: Setting an item of incompatible dtype is deprecated and will raise an error in a future version of pandas. Value 'curd cheese' has dtype incompatible with int64, please explicitly cast to a compatible dtype first.\n",
      "  data[i]=i\n",
      "C:\\Users\\asus\\AppData\\Local\\Temp\\ipykernel_18632\\2884344509.py:4: FutureWarning: Setting an item of incompatible dtype is deprecated and will raise an error in a future version of pandas. Value 'frozen vegetables' has dtype incompatible with int64, please explicitly cast to a compatible dtype first.\n",
      "  data[i]=i\n",
      "C:\\Users\\asus\\AppData\\Local\\Temp\\ipykernel_18632\\2884344509.py:4: FutureWarning: Setting an item of incompatible dtype is deprecated and will raise an error in a future version of pandas. Value 'cleaner' has dtype incompatible with int64, please explicitly cast to a compatible dtype first.\n",
      "  data[i]=i\n",
      "C:\\Users\\asus\\AppData\\Local\\Temp\\ipykernel_18632\\2884344509.py:4: FutureWarning: Setting an item of incompatible dtype is deprecated and will raise an error in a future version of pandas. Value 'napkins' has dtype incompatible with int64, please explicitly cast to a compatible dtype first.\n",
      "  data[i]=i\n",
      "C:\\Users\\asus\\AppData\\Local\\Temp\\ipykernel_18632\\2884344509.py:4: FutureWarning: Setting an item of incompatible dtype is deprecated and will raise an error in a future version of pandas. Value 'pasta' has dtype incompatible with int64, please explicitly cast to a compatible dtype first.\n",
      "  data[i]=i\n",
      "C:\\Users\\asus\\AppData\\Local\\Temp\\ipykernel_18632\\2884344509.py:4: FutureWarning: Setting an item of incompatible dtype is deprecated and will raise an error in a future version of pandas. Value 'sparkling wine' has dtype incompatible with int64, please explicitly cast to a compatible dtype first.\n",
      "  data[i]=i\n",
      "C:\\Users\\asus\\AppData\\Local\\Temp\\ipykernel_18632\\2884344509.py:4: FutureWarning: Setting an item of incompatible dtype is deprecated and will raise an error in a future version of pandas. Value 'finished products' has dtype incompatible with int64, please explicitly cast to a compatible dtype first.\n",
      "  data[i]=i\n",
      "C:\\Users\\asus\\AppData\\Local\\Temp\\ipykernel_18632\\2884344509.py:4: FutureWarning: Setting an item of incompatible dtype is deprecated and will raise an error in a future version of pandas. Value 'waffles' has dtype incompatible with int64, please explicitly cast to a compatible dtype first.\n",
      "  data[i]=i\n",
      "C:\\Users\\asus\\AppData\\Local\\Temp\\ipykernel_18632\\2884344509.py:4: FutureWarning: Setting an item of incompatible dtype is deprecated and will raise an error in a future version of pandas. Value 'turkey' has dtype incompatible with int64, please explicitly cast to a compatible dtype first.\n",
      "  data[i]=i\n"
     ]
    },
    {
     "name": "stderr",
     "output_type": "stream",
     "text": [
      "C:\\Users\\asus\\AppData\\Local\\Temp\\ipykernel_18632\\2884344509.py:4: FutureWarning: Setting an item of incompatible dtype is deprecated and will raise an error in a future version of pandas. Value 'processed cheese' has dtype incompatible with int64, please explicitly cast to a compatible dtype first.\n",
      "  data[i]=i\n",
      "C:\\Users\\asus\\AppData\\Local\\Temp\\ipykernel_18632\\2884344509.py:4: FutureWarning: Setting an item of incompatible dtype is deprecated and will raise an error in a future version of pandas. Value 'onions' has dtype incompatible with int64, please explicitly cast to a compatible dtype first.\n",
      "  data[i]=i\n",
      "C:\\Users\\asus\\AppData\\Local\\Temp\\ipykernel_18632\\2884344509.py:4: FutureWarning: Setting an item of incompatible dtype is deprecated and will raise an error in a future version of pandas. Value 'cream cheese ' has dtype incompatible with int64, please explicitly cast to a compatible dtype first.\n",
      "  data[i]=i\n",
      "C:\\Users\\asus\\AppData\\Local\\Temp\\ipykernel_18632\\2884344509.py:4: FutureWarning: Setting an item of incompatible dtype is deprecated and will raise an error in a future version of pandas. Value 'oil' has dtype incompatible with int64, please explicitly cast to a compatible dtype first.\n",
      "  data[i]=i\n",
      "C:\\Users\\asus\\AppData\\Local\\Temp\\ipykernel_18632\\2884344509.py:4: FutureWarning: Setting an item of incompatible dtype is deprecated and will raise an error in a future version of pandas. Value 'flower soil/fertilizer' has dtype incompatible with int64, please explicitly cast to a compatible dtype first.\n",
      "  data[i]=i\n",
      "C:\\Users\\asus\\AppData\\Local\\Temp\\ipykernel_18632\\2884344509.py:4: FutureWarning: Setting an item of incompatible dtype is deprecated and will raise an error in a future version of pandas. Value 'fish' has dtype incompatible with int64, please explicitly cast to a compatible dtype first.\n",
      "  data[i]=i\n",
      "C:\\Users\\asus\\AppData\\Local\\Temp\\ipykernel_18632\\2884344509.py:4: FutureWarning: Setting an item of incompatible dtype is deprecated and will raise an error in a future version of pandas. Value 'salty snack' has dtype incompatible with int64, please explicitly cast to a compatible dtype first.\n",
      "  data[i]=i\n",
      "C:\\Users\\asus\\AppData\\Local\\Temp\\ipykernel_18632\\2884344509.py:4: FutureWarning: Setting an item of incompatible dtype is deprecated and will raise an error in a future version of pandas. Value 'soft cheese' has dtype incompatible with int64, please explicitly cast to a compatible dtype first.\n",
      "  data[i]=i\n",
      "C:\\Users\\asus\\AppData\\Local\\Temp\\ipykernel_18632\\2884344509.py:4: FutureWarning: Setting an item of incompatible dtype is deprecated and will raise an error in a future version of pandas. Value 'canned vegetables' has dtype incompatible with int64, please explicitly cast to a compatible dtype first.\n",
      "  data[i]=i\n",
      "C:\\Users\\asus\\AppData\\Local\\Temp\\ipykernel_18632\\2884344509.py:4: FutureWarning: Setting an item of incompatible dtype is deprecated and will raise an error in a future version of pandas. Value 'cling film/bags' has dtype incompatible with int64, please explicitly cast to a compatible dtype first.\n",
      "  data[i]=i\n",
      "C:\\Users\\asus\\AppData\\Local\\Temp\\ipykernel_18632\\2884344509.py:4: FutureWarning: Setting an item of incompatible dtype is deprecated and will raise an error in a future version of pandas. Value 'grapes' has dtype incompatible with int64, please explicitly cast to a compatible dtype first.\n",
      "  data[i]=i\n",
      "C:\\Users\\asus\\AppData\\Local\\Temp\\ipykernel_18632\\2884344509.py:4: FutureWarning: Setting an item of incompatible dtype is deprecated and will raise an error in a future version of pandas. Value 'chewing gum' has dtype incompatible with int64, please explicitly cast to a compatible dtype first.\n",
      "  data[i]=i\n",
      "C:\\Users\\asus\\AppData\\Local\\Temp\\ipykernel_18632\\2884344509.py:4: FutureWarning: Setting an item of incompatible dtype is deprecated and will raise an error in a future version of pandas. Value 'long life bakery product' has dtype incompatible with int64, please explicitly cast to a compatible dtype first.\n",
      "  data[i]=i\n",
      "C:\\Users\\asus\\AppData\\Local\\Temp\\ipykernel_18632\\2884344509.py:4: FutureWarning: Setting an item of incompatible dtype is deprecated and will raise an error in a future version of pandas. Value 'cat food' has dtype incompatible with int64, please explicitly cast to a compatible dtype first.\n",
      "  data[i]=i\n",
      "C:\\Users\\asus\\AppData\\Local\\Temp\\ipykernel_18632\\2884344509.py:4: FutureWarning: Setting an item of incompatible dtype is deprecated and will raise an error in a future version of pandas. Value 'soups' has dtype incompatible with int64, please explicitly cast to a compatible dtype first.\n",
      "  data[i]=i\n",
      "C:\\Users\\asus\\AppData\\Local\\Temp\\ipykernel_18632\\2884344509.py:4: FutureWarning: Setting an item of incompatible dtype is deprecated and will raise an error in a future version of pandas. Value 'instant coffee' has dtype incompatible with int64, please explicitly cast to a compatible dtype first.\n",
      "  data[i]=i\n",
      "C:\\Users\\asus\\AppData\\Local\\Temp\\ipykernel_18632\\2884344509.py:4: FutureWarning: Setting an item of incompatible dtype is deprecated and will raise an error in a future version of pandas. Value 'frozen fish' has dtype incompatible with int64, please explicitly cast to a compatible dtype first.\n",
      "  data[i]=i\n",
      "C:\\Users\\asus\\AppData\\Local\\Temp\\ipykernel_18632\\2884344509.py:4: FutureWarning: Setting an item of incompatible dtype is deprecated and will raise an error in a future version of pandas. Value 'vinegar' has dtype incompatible with int64, please explicitly cast to a compatible dtype first.\n",
      "  data[i]=i\n",
      "C:\\Users\\asus\\AppData\\Local\\Temp\\ipykernel_18632\\2884344509.py:4: FutureWarning: Setting an item of incompatible dtype is deprecated and will raise an error in a future version of pandas. Value 'specialty cheese' has dtype incompatible with int64, please explicitly cast to a compatible dtype first.\n",
      "  data[i]=i\n",
      "C:\\Users\\asus\\AppData\\Local\\Temp\\ipykernel_18632\\2884344509.py:4: FutureWarning: Setting an item of incompatible dtype is deprecated and will raise an error in a future version of pandas. Value 'zwieback' has dtype incompatible with int64, please explicitly cast to a compatible dtype first.\n",
      "  data[i]=i\n",
      "C:\\Users\\asus\\AppData\\Local\\Temp\\ipykernel_18632\\2884344509.py:4: FutureWarning: Setting an item of incompatible dtype is deprecated and will raise an error in a future version of pandas. Value 'dog food' has dtype incompatible with int64, please explicitly cast to a compatible dtype first.\n",
      "  data[i]=i\n",
      "C:\\Users\\asus\\AppData\\Local\\Temp\\ipykernel_18632\\2884344509.py:4: FutureWarning: Setting an item of incompatible dtype is deprecated and will raise an error in a future version of pandas. Value 'liquor (appetizer)' has dtype incompatible with int64, please explicitly cast to a compatible dtype first.\n",
      "  data[i]=i\n",
      "C:\\Users\\asus\\AppData\\Local\\Temp\\ipykernel_18632\\2884344509.py:4: FutureWarning: Setting an item of incompatible dtype is deprecated and will raise an error in a future version of pandas. Value 'spread cheese' has dtype incompatible with int64, please explicitly cast to a compatible dtype first.\n",
      "  data[i]=i\n",
      "C:\\Users\\asus\\AppData\\Local\\Temp\\ipykernel_18632\\2884344509.py:4: FutureWarning: Setting an item of incompatible dtype is deprecated and will raise an error in a future version of pandas. Value 'mustard' has dtype incompatible with int64, please explicitly cast to a compatible dtype first.\n",
      "  data[i]=i\n",
      "C:\\Users\\asus\\AppData\\Local\\Temp\\ipykernel_18632\\2884344509.py:4: FutureWarning: Setting an item of incompatible dtype is deprecated and will raise an error in a future version of pandas. Value 'popcorn' has dtype incompatible with int64, please explicitly cast to a compatible dtype first.\n",
      "  data[i]=i\n",
      "C:\\Users\\asus\\AppData\\Local\\Temp\\ipykernel_18632\\2884344509.py:4: FutureWarning: Setting an item of incompatible dtype is deprecated and will raise an error in a future version of pandas. Value 'cake bar' has dtype incompatible with int64, please explicitly cast to a compatible dtype first.\n",
      "  data[i]=i\n",
      "C:\\Users\\asus\\AppData\\Local\\Temp\\ipykernel_18632\\2884344509.py:4: FutureWarning: Setting an item of incompatible dtype is deprecated and will raise an error in a future version of pandas. Value 'roll products ' has dtype incompatible with int64, please explicitly cast to a compatible dtype first.\n",
      "  data[i]=i\n",
      "C:\\Users\\asus\\AppData\\Local\\Temp\\ipykernel_18632\\2884344509.py:4: FutureWarning: Setting an item of incompatible dtype is deprecated and will raise an error in a future version of pandas. Value 'salt' has dtype incompatible with int64, please explicitly cast to a compatible dtype first.\n",
      "  data[i]=i\n"
     ]
    },
    {
     "name": "stderr",
     "output_type": "stream",
     "text": [
      "C:\\Users\\asus\\AppData\\Local\\Temp\\ipykernel_18632\\2884344509.py:4: FutureWarning: Setting an item of incompatible dtype is deprecated and will raise an error in a future version of pandas. Value 'jam' has dtype incompatible with int64, please explicitly cast to a compatible dtype first.\n",
      "  data[i]=i\n",
      "C:\\Users\\asus\\AppData\\Local\\Temp\\ipykernel_18632\\2884344509.py:4: FutureWarning: Setting an item of incompatible dtype is deprecated and will raise an error in a future version of pandas. Value 'Instant food products' has dtype incompatible with int64, please explicitly cast to a compatible dtype first.\n",
      "  data[i]=i\n",
      "C:\\Users\\asus\\AppData\\Local\\Temp\\ipykernel_18632\\2884344509.py:4: FutureWarning: Setting an item of incompatible dtype is deprecated and will raise an error in a future version of pandas. Value 'pet care' has dtype incompatible with int64, please explicitly cast to a compatible dtype first.\n",
      "  data[i]=i\n",
      "C:\\Users\\asus\\AppData\\Local\\Temp\\ipykernel_18632\\2884344509.py:4: FutureWarning: Setting an item of incompatible dtype is deprecated and will raise an error in a future version of pandas. Value 'seasonal products' has dtype incompatible with int64, please explicitly cast to a compatible dtype first.\n",
      "  data[i]=i\n",
      "C:\\Users\\asus\\AppData\\Local\\Temp\\ipykernel_18632\\2884344509.py:4: FutureWarning: Setting an item of incompatible dtype is deprecated and will raise an error in a future version of pandas. Value 'female sanitary products' has dtype incompatible with int64, please explicitly cast to a compatible dtype first.\n",
      "  data[i]=i\n",
      "C:\\Users\\asus\\AppData\\Local\\Temp\\ipykernel_18632\\2884344509.py:4: FutureWarning: Setting an item of incompatible dtype is deprecated and will raise an error in a future version of pandas. Value 'house keeping products' has dtype incompatible with int64, please explicitly cast to a compatible dtype first.\n",
      "  data[i]=i\n",
      "C:\\Users\\asus\\AppData\\Local\\Temp\\ipykernel_18632\\2884344509.py:4: FutureWarning: Setting an item of incompatible dtype is deprecated and will raise an error in a future version of pandas. Value 'cookware' has dtype incompatible with int64, please explicitly cast to a compatible dtype first.\n",
      "  data[i]=i\n",
      "C:\\Users\\asus\\AppData\\Local\\Temp\\ipykernel_18632\\2884344509.py:4: FutureWarning: Setting an item of incompatible dtype is deprecated and will raise an error in a future version of pandas. Value 'potato products' has dtype incompatible with int64, please explicitly cast to a compatible dtype first.\n",
      "  data[i]=i\n",
      "C:\\Users\\asus\\AppData\\Local\\Temp\\ipykernel_18632\\2884344509.py:4: FutureWarning: Setting an item of incompatible dtype is deprecated and will raise an error in a future version of pandas. Value 'baking powder' has dtype incompatible with int64, please explicitly cast to a compatible dtype first.\n",
      "  data[i]=i\n",
      "C:\\Users\\asus\\AppData\\Local\\Temp\\ipykernel_18632\\2884344509.py:4: FutureWarning: Setting an item of incompatible dtype is deprecated and will raise an error in a future version of pandas. Value 'spices' has dtype incompatible with int64, please explicitly cast to a compatible dtype first.\n",
      "  data[i]=i\n",
      "C:\\Users\\asus\\AppData\\Local\\Temp\\ipykernel_18632\\2884344509.py:4: FutureWarning: Setting an item of incompatible dtype is deprecated and will raise an error in a future version of pandas. Value 'soap' has dtype incompatible with int64, please explicitly cast to a compatible dtype first.\n",
      "  data[i]=i\n",
      "C:\\Users\\asus\\AppData\\Local\\Temp\\ipykernel_18632\\2884344509.py:4: FutureWarning: Setting an item of incompatible dtype is deprecated and will raise an error in a future version of pandas. Value 'liver loaf' has dtype incompatible with int64, please explicitly cast to a compatible dtype first.\n",
      "  data[i]=i\n",
      "C:\\Users\\asus\\AppData\\Local\\Temp\\ipykernel_18632\\2884344509.py:4: FutureWarning: Setting an item of incompatible dtype is deprecated and will raise an error in a future version of pandas. Value 'chocolate marshmallow' has dtype incompatible with int64, please explicitly cast to a compatible dtype first.\n",
      "  data[i]=i\n",
      "C:\\Users\\asus\\AppData\\Local\\Temp\\ipykernel_18632\\2884344509.py:4: FutureWarning: Setting an item of incompatible dtype is deprecated and will raise an error in a future version of pandas. Value 'light bulbs' has dtype incompatible with int64, please explicitly cast to a compatible dtype first.\n",
      "  data[i]=i\n",
      "C:\\Users\\asus\\AppData\\Local\\Temp\\ipykernel_18632\\2884344509.py:4: FutureWarning: Setting an item of incompatible dtype is deprecated and will raise an error in a future version of pandas. Value 'brandy' has dtype incompatible with int64, please explicitly cast to a compatible dtype first.\n",
      "  data[i]=i\n",
      "C:\\Users\\asus\\AppData\\Local\\Temp\\ipykernel_18632\\2884344509.py:4: FutureWarning: Setting an item of incompatible dtype is deprecated and will raise an error in a future version of pandas. Value 'meat spreads' has dtype incompatible with int64, please explicitly cast to a compatible dtype first.\n",
      "  data[i]=i\n",
      "C:\\Users\\asus\\AppData\\Local\\Temp\\ipykernel_18632\\2884344509.py:4: FutureWarning: Setting an item of incompatible dtype is deprecated and will raise an error in a future version of pandas. Value 'frozen dessert' has dtype incompatible with int64, please explicitly cast to a compatible dtype first.\n",
      "  data[i]=i\n",
      "C:\\Users\\asus\\AppData\\Local\\Temp\\ipykernel_18632\\2884344509.py:4: FutureWarning: Setting an item of incompatible dtype is deprecated and will raise an error in a future version of pandas. Value 'sweet spreads' has dtype incompatible with int64, please explicitly cast to a compatible dtype first.\n",
      "  data[i]=i\n",
      "C:\\Users\\asus\\AppData\\Local\\Temp\\ipykernel_18632\\2884344509.py:4: FutureWarning: Setting an item of incompatible dtype is deprecated and will raise an error in a future version of pandas. Value 'decalcifier' has dtype incompatible with int64, please explicitly cast to a compatible dtype first.\n",
      "  data[i]=i\n",
      "C:\\Users\\asus\\AppData\\Local\\Temp\\ipykernel_18632\\2884344509.py:4: FutureWarning: Setting an item of incompatible dtype is deprecated and will raise an error in a future version of pandas. Value 'flower (seeds)' has dtype incompatible with int64, please explicitly cast to a compatible dtype first.\n",
      "  data[i]=i\n",
      "C:\\Users\\asus\\AppData\\Local\\Temp\\ipykernel_18632\\2884344509.py:4: FutureWarning: Setting an item of incompatible dtype is deprecated and will raise an error in a future version of pandas. Value 'hair spray' has dtype incompatible with int64, please explicitly cast to a compatible dtype first.\n",
      "  data[i]=i\n",
      "C:\\Users\\asus\\AppData\\Local\\Temp\\ipykernel_18632\\2884344509.py:4: FutureWarning: Setting an item of incompatible dtype is deprecated and will raise an error in a future version of pandas. Value 'mayonnaise' has dtype incompatible with int64, please explicitly cast to a compatible dtype first.\n",
      "  data[i]=i\n",
      "C:\\Users\\asus\\AppData\\Local\\Temp\\ipykernel_18632\\2884344509.py:4: FutureWarning: Setting an item of incompatible dtype is deprecated and will raise an error in a future version of pandas. Value 'nuts/prunes' has dtype incompatible with int64, please explicitly cast to a compatible dtype first.\n",
      "  data[i]=i\n",
      "C:\\Users\\asus\\AppData\\Local\\Temp\\ipykernel_18632\\2884344509.py:4: FutureWarning: Setting an item of incompatible dtype is deprecated and will raise an error in a future version of pandas. Value 'frozen fruits' has dtype incompatible with int64, please explicitly cast to a compatible dtype first.\n",
      "  data[i]=i\n",
      "C:\\Users\\asus\\AppData\\Local\\Temp\\ipykernel_18632\\2884344509.py:4: FutureWarning: Setting an item of incompatible dtype is deprecated and will raise an error in a future version of pandas. Value 'rum' has dtype incompatible with int64, please explicitly cast to a compatible dtype first.\n",
      "  data[i]=i\n",
      "C:\\Users\\asus\\AppData\\Local\\Temp\\ipykernel_18632\\2884344509.py:4: FutureWarning: Setting an item of incompatible dtype is deprecated and will raise an error in a future version of pandas. Value 'honey' has dtype incompatible with int64, please explicitly cast to a compatible dtype first.\n",
      "  data[i]=i\n"
     ]
    }
   ],
   "source": [
    "#apply the function in DataFrame 'data2'\n",
    "data2=data2.apply(func,axis=1)"
   ]
  },
  {
   "cell_type": "code",
   "execution_count": 85,
   "id": "f9c6bf1e",
   "metadata": {},
   "outputs": [
    {
     "data": {
      "text/html": [
       "<div>\n",
       "<style scoped>\n",
       "    .dataframe tbody tr th:only-of-type {\n",
       "        vertical-align: middle;\n",
       "    }\n",
       "\n",
       "    .dataframe tbody tr th {\n",
       "        vertical-align: top;\n",
       "    }\n",
       "\n",
       "    .dataframe thead th {\n",
       "        text-align: right;\n",
       "    }\n",
       "</style>\n",
       "<table border=\"1\" class=\"dataframe\">\n",
       "  <thead>\n",
       "    <tr style=\"text-align: right;\">\n",
       "      <th></th>\n",
       "      <th>tropical fruit</th>\n",
       "      <th>whole milk</th>\n",
       "      <th>pip fruit</th>\n",
       "      <th>other vegetables</th>\n",
       "      <th>rolls/buns</th>\n",
       "      <th>pot plants</th>\n",
       "      <th>citrus fruit</th>\n",
       "      <th>beef</th>\n",
       "      <th>frankfurter</th>\n",
       "      <th>chicken</th>\n",
       "      <th>...</th>\n",
       "      <th>flower (seeds)</th>\n",
       "      <th>rice</th>\n",
       "      <th>tea</th>\n",
       "      <th>salad dressing</th>\n",
       "      <th>specialty vegetables</th>\n",
       "      <th>pudding powder</th>\n",
       "      <th>ready soups</th>\n",
       "      <th>make up remover</th>\n",
       "      <th>toilet cleaner</th>\n",
       "      <th>preservation products</th>\n",
       "    </tr>\n",
       "  </thead>\n",
       "  <tbody>\n",
       "    <tr>\n",
       "      <th>0</th>\n",
       "      <td>0</td>\n",
       "      <td>whole milk</td>\n",
       "      <td>0</td>\n",
       "      <td>0</td>\n",
       "      <td>0</td>\n",
       "      <td>0</td>\n",
       "      <td>0</td>\n",
       "      <td>0</td>\n",
       "      <td>0</td>\n",
       "      <td>0</td>\n",
       "      <td>...</td>\n",
       "      <td>0</td>\n",
       "      <td>0</td>\n",
       "      <td>0</td>\n",
       "      <td>0</td>\n",
       "      <td>0</td>\n",
       "      <td>0</td>\n",
       "      <td>0</td>\n",
       "      <td>0</td>\n",
       "      <td>0</td>\n",
       "      <td>0</td>\n",
       "    </tr>\n",
       "    <tr>\n",
       "      <th>1</th>\n",
       "      <td>0</td>\n",
       "      <td>whole milk</td>\n",
       "      <td>0</td>\n",
       "      <td>0</td>\n",
       "      <td>0</td>\n",
       "      <td>0</td>\n",
       "      <td>0</td>\n",
       "      <td>0</td>\n",
       "      <td>0</td>\n",
       "      <td>0</td>\n",
       "      <td>...</td>\n",
       "      <td>0</td>\n",
       "      <td>0</td>\n",
       "      <td>0</td>\n",
       "      <td>0</td>\n",
       "      <td>0</td>\n",
       "      <td>0</td>\n",
       "      <td>0</td>\n",
       "      <td>0</td>\n",
       "      <td>0</td>\n",
       "      <td>0</td>\n",
       "    </tr>\n",
       "    <tr>\n",
       "      <th>2</th>\n",
       "      <td>0</td>\n",
       "      <td>0</td>\n",
       "      <td>0</td>\n",
       "      <td>0</td>\n",
       "      <td>0</td>\n",
       "      <td>0</td>\n",
       "      <td>0</td>\n",
       "      <td>0</td>\n",
       "      <td>0</td>\n",
       "      <td>0</td>\n",
       "      <td>...</td>\n",
       "      <td>0</td>\n",
       "      <td>0</td>\n",
       "      <td>0</td>\n",
       "      <td>0</td>\n",
       "      <td>0</td>\n",
       "      <td>0</td>\n",
       "      <td>0</td>\n",
       "      <td>0</td>\n",
       "      <td>0</td>\n",
       "      <td>0</td>\n",
       "    </tr>\n",
       "    <tr>\n",
       "      <th>3</th>\n",
       "      <td>0</td>\n",
       "      <td>0</td>\n",
       "      <td>0</td>\n",
       "      <td>0</td>\n",
       "      <td>0</td>\n",
       "      <td>0</td>\n",
       "      <td>0</td>\n",
       "      <td>0</td>\n",
       "      <td>0</td>\n",
       "      <td>0</td>\n",
       "      <td>...</td>\n",
       "      <td>0</td>\n",
       "      <td>0</td>\n",
       "      <td>0</td>\n",
       "      <td>0</td>\n",
       "      <td>0</td>\n",
       "      <td>0</td>\n",
       "      <td>0</td>\n",
       "      <td>0</td>\n",
       "      <td>0</td>\n",
       "      <td>0</td>\n",
       "    </tr>\n",
       "    <tr>\n",
       "      <th>4</th>\n",
       "      <td>0</td>\n",
       "      <td>0</td>\n",
       "      <td>0</td>\n",
       "      <td>0</td>\n",
       "      <td>0</td>\n",
       "      <td>0</td>\n",
       "      <td>0</td>\n",
       "      <td>0</td>\n",
       "      <td>0</td>\n",
       "      <td>0</td>\n",
       "      <td>...</td>\n",
       "      <td>0</td>\n",
       "      <td>0</td>\n",
       "      <td>0</td>\n",
       "      <td>0</td>\n",
       "      <td>0</td>\n",
       "      <td>0</td>\n",
       "      <td>0</td>\n",
       "      <td>0</td>\n",
       "      <td>0</td>\n",
       "      <td>0</td>\n",
       "    </tr>\n",
       "  </tbody>\n",
       "</table>\n",
       "<p>5 rows × 167 columns</p>\n",
       "</div>"
      ],
      "text/plain": [
       "  tropical fruit  whole milk pip fruit other vegetables rolls/buns pot plants  \\\n",
       "0              0  whole milk         0                0          0          0   \n",
       "1              0  whole milk         0                0          0          0   \n",
       "2              0           0         0                0          0          0   \n",
       "3              0           0         0                0          0          0   \n",
       "4              0           0         0                0          0          0   \n",
       "\n",
       "  citrus fruit beef frankfurter chicken  ... flower (seeds) rice tea  \\\n",
       "0            0    0           0       0  ...              0    0   0   \n",
       "1            0    0           0       0  ...              0    0   0   \n",
       "2            0    0           0       0  ...              0    0   0   \n",
       "3            0    0           0       0  ...              0    0   0   \n",
       "4            0    0           0       0  ...              0    0   0   \n",
       "\n",
       "  salad dressing specialty vegetables pudding powder ready soups  \\\n",
       "0              0                    0              0           0   \n",
       "1              0                    0              0           0   \n",
       "2              0                    0              0           0   \n",
       "3              0                    0              0           0   \n",
       "4              0                    0              0           0   \n",
       "\n",
       "  make up remover toilet cleaner preservation products  \n",
       "0               0              0                     0  \n",
       "1               0              0                     0  \n",
       "2               0              0                     0  \n",
       "3               0              0                     0  \n",
       "4               0              0                     0  \n",
       "\n",
       "[5 rows x 167 columns]"
      ]
     },
     "execution_count": 85,
     "metadata": {},
     "output_type": "execute_result"
    }
   ],
   "source": [
    "#show the top 5 datapoint of DataFrame \n",
    "data2.head()"
   ]
  },
  {
   "cell_type": "code",
   "execution_count": 86,
   "id": "28e295ab",
   "metadata": {},
   "outputs": [],
   "source": [
    "#store only value of DataFrame in list \n",
    "newdata=data2.values"
   ]
  },
  {
   "cell_type": "code",
   "execution_count": 88,
   "id": "034e6692",
   "metadata": {},
   "outputs": [],
   "source": [
    "#remove all 0's from list \n",
    "newdata=[i[i!=0].tolist() for i in newdata if i[i!=0].tolist()]"
   ]
  },
  {
   "cell_type": "code",
   "execution_count": 90,
   "id": "4cf1fcc4",
   "metadata": {},
   "outputs": [
    {
     "data": {
      "text/plain": [
       "[['whole milk', 'yogurt', 'sausage', 'semi-finished bread'],\n",
       " ['whole milk', 'pastry', 'salty snack'],\n",
       " ['canned beer', 'misc. beverages'],\n",
       " ['sausage', 'hygiene articles'],\n",
       " ['soda', 'pickled vegetables'],\n",
       " ['frankfurter', 'curd'],\n",
       " ['whole milk', 'rolls/buns', 'sausage'],\n",
       " ['whole milk', 'soda'],\n",
       " ['beef', 'white bread'],\n",
       " ['frankfurter', 'soda', 'whipped/sour cream']]"
      ]
     },
     "execution_count": 90,
     "metadata": {},
     "output_type": "execute_result"
    }
   ],
   "source": [
    "#show 10 value from the list \n",
    "newdata[:10]"
   ]
  },
  {
   "cell_type": "markdown",
   "id": "b79ca33a",
   "metadata": {},
   "source": [
    "Apriori Implementation"
   ]
  },
  {
   "cell_type": "code",
   "execution_count": 93,
   "id": "8465697e",
   "metadata": {},
   "outputs": [],
   "source": [
    "association=apriori(newdata,\n",
    "                    min_support=0.0003,\n",
    "                    min_confidence=0.05,\n",
    "                    min_lift=3,\n",
    "                    max_length=2)\n",
    "result=list(association)"
   ]
  },
  {
   "cell_type": "code",
   "execution_count": 101,
   "id": "98ec1fd6",
   "metadata": {},
   "outputs": [
    {
     "data": {
      "text/plain": [
       "RelationRecord(items=frozenset({'liver loaf', 'fruit/vegetable juice'}), support=0.00040098910646260775, ordered_statistics=[OrderedStatistic(items_base=frozenset({'liver loaf'}), items_add=frozenset({'fruit/vegetable juice'}), confidence=0.12, lift=3.5276227897838903)])"
      ]
     },
     "execution_count": 101,
     "metadata": {},
     "output_type": "execute_result"
    }
   ],
   "source": [
    "result[0]"
   ]
  },
  {
   "cell_type": "code",
   "execution_count": 102,
   "id": "8b51fdc9",
   "metadata": {},
   "outputs": [
    {
     "name": "stdout",
     "output_type": "stream",
     "text": [
      "frozenset({'liver loaf', 'fruit/vegetable juice'})\n",
      "0.00040098910646260775\n",
      "[OrderedStatistic(items_base=frozenset({'liver loaf'}), items_add=frozenset({'fruit/vegetable juice'}), confidence=0.12, lift=3.5276227897838903)]\n"
     ]
    }
   ],
   "source": [
    "for i in result[0]:\n",
    "    print(i)"
   ]
  },
  {
   "cell_type": "code",
   "execution_count": null,
   "id": "9e585a2c",
   "metadata": {},
   "outputs": [],
   "source": [
    "#liver loaf ->fruit/vegetable juice"
   ]
  },
  {
   "cell_type": "code",
   "execution_count": 104,
   "id": "6d3dbf8b",
   "metadata": {},
   "outputs": [
    {
     "data": {
      "text/plain": [
       "frozenset({'fruit/vegetable juice', 'liver loaf'})"
      ]
     },
     "execution_count": 104,
     "metadata": {},
     "output_type": "execute_result"
    }
   ],
   "source": [
    "result[0][0]"
   ]
  },
  {
   "cell_type": "raw",
   "id": "071bc8ff",
   "metadata": {},
   "source": [
    "#working in apriori algorithms \n",
    "Itemset:{'fruit/vegetable juice', 'liver loaf'}\n",
    "association rule: liver loaf -> fruit/vegetable juice\n",
    "confidence=0.12"
   ]
  }
 ],
 "metadata": {
  "kernelspec": {
   "display_name": "Python 3 (ipykernel)",
   "language": "python",
   "name": "python3"
  },
  "language_info": {
   "codemirror_mode": {
    "name": "ipython",
    "version": 3
   },
   "file_extension": ".py",
   "mimetype": "text/x-python",
   "name": "python",
   "nbconvert_exporter": "python",
   "pygments_lexer": "ipython3",
   "version": "3.11.5"
  }
 },
 "nbformat": 4,
 "nbformat_minor": 5
}
